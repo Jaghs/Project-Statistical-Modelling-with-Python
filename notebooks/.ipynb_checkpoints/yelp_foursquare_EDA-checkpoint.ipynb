{
 "cells": [
  {
   "cell_type": "code",
   "execution_count": 18,
   "metadata": {},
   "outputs": [],
   "source": [
    "# IMPORTS\n",
    "import pandas as pd\n",
    "import requests\n",
    "import os\n",
    "from IPython.display import JSON"
   ]
  },
  {
   "cell_type": "markdown",
   "metadata": {},
   "source": [
    "# Foursquare"
   ]
  },
  {
   "cell_type": "markdown",
   "metadata": {},
   "source": [
    "Send a request to Foursquare with a small radius (1000m) for all the bike stations in your city of choice. "
   ]
  },
  {
   "cell_type": "code",
   "execution_count": 19,
   "metadata": {},
   "outputs": [
    {
     "data": {
      "application/json": {
       "context": {
        "geo_bounds": {
         "circle": {
          "center": {
           "latitude": 48.85341,
           "longitude": 2.3488
          },
          "radius": 19149
         }
        }
       },
       "results": [
        {
         "categories": [
          {
           "icon": {
            "prefix": "https://ss3.4sqi.net/img/categories_v2/parks_outdoors/plaza_",
            "suffix": ".png"
           },
           "id": 16041,
           "name": "Plaza"
          }
         ],
         "chains": [],
         "distance": 25,
         "fsq_id": "4c00046cc30a2d7fbeda111d",
         "geocodes": {
          "main": {
           "latitude": 48.853414,
           "longitude": 2.348487
          }
         },
         "link": "/v3/places/4c00046cc30a2d7fbeda111d",
         "location": {
          "address": "place du Parvis-Notre-Dame",
          "admin_region": "Île-de-France",
          "country": "FR",
          "cross_street": "Place Jean-Paul II",
          "formatted_address": "place du Parvis-Notre-Dame (Place Jean-Paul II), 75004 Paris",
          "locality": "Paris",
          "postcode": "75004",
          "region": "Île-de-France"
         },
         "name": "Parvis Notre-Dame — Place Jean-Paul II",
         "related_places": {
          "children": [
           {
            "fsq_id": "4d860bcbe83fa143ae0f87a1",
            "name": "Statue de Charlemagne"
           },
           {
            "fsq_id": "554cd459498efa1076311e7d",
            "name": "Point Zéro des Routes de France"
           }
          ]
         },
         "timezone": "Europe/Paris"
        },
        {
         "categories": [
          {
           "icon": {
            "prefix": "https://ss3.4sqi.net/img/categories_v2/shops/bookstore_",
            "suffix": ".png"
           },
           "id": 17018,
           "name": "Bookstore"
          }
         ],
         "chains": [],
         "distance": 155,
         "fsq_id": "4adcda21f964a520f23921e3",
         "geocodes": {
          "main": {
           "latitude": 48.852581,
           "longitude": 2.34712
          }
         },
         "link": "/v3/places/4adcda21f964a520f23921e3",
         "location": {
          "address": "37 rue de la Bûcherie",
          "admin_region": "Île-de-France",
          "country": "FR",
          "formatted_address": "37 rue de la Bûcherie, 75005 Paris",
          "locality": "Paris",
          "postcode": "75005",
          "region": "Île-de-France"
         },
         "name": "Shakespeare & Company",
         "related_places": {
          "children": [
           {
            "fsq_id": "562a40c3498e425bd63baa85",
            "name": "Shakespeare & Company"
           },
           {
            "fsq_id": "56d1a14fcd10d6b76bbf57d0",
            "name": "Shakespeare Antiquarian Books"
           }
          ]
         },
         "timezone": "Europe/Paris"
        },
        {
         "categories": [
          {
           "icon": {
            "prefix": "https://ss3.4sqi.net/img/categories_v2/food/burger_",
            "suffix": ".png"
           },
           "id": 13031,
           "name": "Burger Joint"
          },
          {
           "icon": {
            "prefix": "https://ss3.4sqi.net/img/categories_v2/food/asian_",
            "suffix": ".png"
           },
           "id": 13072,
           "name": "Asian Restaurant"
          }
         ],
         "chains": [],
         "distance": 255,
         "fsq_id": "578a2e9f498e1129b45bb0db",
         "geocodes": {
          "main": {
           "latitude": 48.853381,
           "longitude": 2.345158
          },
          "roof": {
           "latitude": 48.853381,
           "longitude": 2.345158
          }
         },
         "link": "/v3/places/578a2e9f498e1129b45bb0db",
         "location": {
          "address": "21 quai Saint Michel",
          "admin_region": "Île-de-France",
          "country": "FR",
          "cross_street": "",
          "formatted_address": "21 quai Saint Michel, 75005 Paris",
          "locality": "Paris",
          "postcode": "75005",
          "region": "Île-de-France"
         },
         "name": "Shiso Burger",
         "related_places": {},
         "timezone": "Europe/Paris"
        },
        {
         "categories": [
          {
           "icon": {
            "prefix": "https://ss3.4sqi.net/img/categories_v2/food/bakery_",
            "suffix": ".png"
           },
           "id": 13002,
           "name": "Bakery"
          },
          {
           "icon": {
            "prefix": "https://ss3.4sqi.net/img/categories_v2/food/default_",
            "suffix": ".png"
           },
           "id": 13065,
           "name": "Restaurant"
          }
         ],
         "chains": [],
         "distance": 379,
         "fsq_id": "5b394cae92e7a9002c724cf9",
         "geocodes": {
          "main": {
           "latitude": 48.849803,
           "longitude": 2.348321
          },
          "roof": {
           "latitude": 48.849803,
           "longitude": 2.348321
          }
         },
         "link": "/v3/places/5b394cae92e7a9002c724cf9",
         "location": {
          "address": "47ter boulevard Saint-Germain",
          "admin_region": "Île-de-France",
          "country": "FR",
          "cross_street": "",
          "formatted_address": "47ter boulevard Saint-Germain, 75005 Paris",
          "locality": "Paris",
          "postcode": "75005",
          "region": "Île-de-France"
         },
         "name": "La Maison d'Isabelle",
         "related_places": {},
         "timezone": "Europe/Paris"
        },
        {
         "categories": [
          {
           "icon": {
            "prefix": "https://ss3.4sqi.net/img/categories_v2/parks_outdoors/default_",
            "suffix": ".png"
           },
           "id": 16000,
           "name": "Landmarks and Outdoors"
          }
         ],
         "chains": [],
         "distance": 360,
         "fsq_id": "4b530766f964a520f88c27e3",
         "geocodes": {
          "main": {
           "latitude": 48.853439,
           "longitude": 2.343903
          }
         },
         "link": "/v3/places/4b530766f964a520f88c27e3",
         "location": {
          "address": "24 boul. Saint Michel",
          "admin_region": "Île-de-France",
          "country": "FR",
          "formatted_address": "24 boul. Saint Michel, 75006 Paris",
          "locality": "Paris",
          "postcode": "75006",
          "region": "Île-de-France"
         },
         "name": "Place Saint-Michel",
         "related_places": {
          "children": [
           {
            "fsq_id": "543b0484498e299b6070b8b1",
            "name": "Fontaine Saint-Michel"
           }
          ]
         },
         "timezone": "Europe/Paris"
        },
        {
         "categories": [
          {
           "icon": {
            "prefix": "https://ss3.4sqi.net/img/categories_v2/shops/bookstore_",
            "suffix": ".png"
           },
           "id": 17018,
           "name": "Bookstore"
          }
         ],
         "chains": [],
         "distance": 389,
         "fsq_id": "4b588679f964a5201c5c28e3",
         "geocodes": {
          "main": {
           "latitude": 48.850568,
           "longitude": 2.345689
          },
          "roof": {
           "latitude": 48.850568,
           "longitude": 2.345689
          }
         },
         "link": "/v3/places/4b588679f964a5201c5c28e3",
         "location": {
          "address": "67 boulevard Saint Germain",
          "admin_region": "Île-de-France",
          "country": "FR",
          "cross_street": "Rue Saint-Jacques",
          "formatted_address": "67 boulevard Saint Germain (Rue Saint-Jacques), 75005 Paris",
          "locality": "Paris",
          "postcode": "75005",
          "region": "Île-de-France"
         },
         "name": "Album",
         "related_places": {},
         "timezone": "Europe/Paris"
        },
        {
         "categories": [
          {
           "icon": {
            "prefix": "https://ss3.4sqi.net/img/categories_v2/parks_outdoors/plaza_",
            "suffix": ".png"
           },
           "id": 16041,
           "name": "Plaza"
          }
         ],
         "chains": [],
         "distance": 430,
         "fsq_id": "4bf41231e5eba59334341f90",
         "geocodes": {
          "main": {
           "latitude": 48.856902,
           "longitude": 2.351335
          }
         },
         "link": "/v3/places/4bf41231e5eba59334341f90",
         "location": {
          "address": "place de l'Hôtel de Ville",
          "admin_region": "Île-de-France",
          "country": "FR",
          "formatted_address": "place de l'Hôtel de Ville, 75004 Paris",
          "locality": "Paris",
          "postcode": "75004",
          "region": "Île-de-France"
         },
         "name": "Place de l'Hôtel-de-Ville",
         "related_places": {
          "children": []
         },
         "timezone": "Europe/Paris"
        },
        {
         "categories": [
          {
           "icon": {
            "prefix": "https://ss3.4sqi.net/img/categories_v2/food/bakery_",
            "suffix": ".png"
           },
           "id": 13002,
           "name": "Bakery"
          },
          {
           "icon": {
            "prefix": "https://ss3.4sqi.net/img/categories_v2/food/cupcakes_",
            "suffix": ".png"
           },
           "id": 13042,
           "name": "Cupcake Shop"
          },
          {
           "icon": {
            "prefix": "https://ss3.4sqi.net/img/categories_v2/food/dessert_",
            "suffix": ".png"
           },
           "id": 13047,
           "name": "Pastry Shop"
          }
         ],
         "chains": [],
         "distance": 431,
         "fsq_id": "52da84ff11d22bf52d47983c",
         "geocodes": {
          "main": {
           "latitude": 48.849458,
           "longitude": 2.34923
          },
          "roof": {
           "latitude": 48.849458,
           "longitude": 2.34923
          }
         },
         "link": "/v3/places/52da84ff11d22bf52d47983c",
         "location": {
          "address": "2 rue Monge",
          "admin_region": "Île-de-France",
          "country": "FR",
          "cross_street": "",
          "formatted_address": "2 rue Monge, 75005 Paris",
          "locality": "Paris",
          "postcode": "75005",
          "region": "Île-de-France"
         },
         "name": "Aux Merveilleux de Fred",
         "related_places": {},
         "timezone": "Europe/Paris"
        },
        {
         "categories": [
          {
           "icon": {
            "prefix": "https://ss3.4sqi.net/img/categories_v2/nightlife/divebar_",
            "suffix": ".png"
           },
           "id": 13010,
           "name": "Dive Bar"
          },
          {
           "icon": {
            "prefix": "https://ss3.4sqi.net/img/categories_v2/food/winery_",
            "suffix": ".png"
           },
           "id": 13025,
           "name": "Wine Bar"
          },
          {
           "icon": {
            "prefix": "https://ss3.4sqi.net/img/categories_v2/food/tapas_",
            "suffix": ".png"
           },
           "id": 13347,
           "name": "Tapas Restaurant"
          }
         ],
         "chains": [],
         "distance": 678,
         "fsq_id": "53568d3e498e92e5a3a56f36",
         "geocodes": {
          "main": {
           "latitude": 48.8559,
           "longitude": 2.340061
          },
          "roof": {
           "latitude": 48.8559,
           "longitude": 2.340061
          }
         },
         "link": "/v3/places/53568d3e498e92e5a3a56f36",
         "location": {
          "address": "10 rue Dauphine 75006",
          "admin_region": "Île-de-France",
          "country": "FR",
          "cross_street": "",
          "formatted_address": "10 rue Dauphine 75006, 75006 Paris",
          "locality": "Paris",
          "postcode": "75006",
          "region": "Île-de-France"
         },
         "name": "Chez Nous",
         "related_places": {},
         "timezone": "Europe/Paris"
        },
        {
         "categories": [
          {
           "icon": {
            "prefix": "https://ss3.4sqi.net/img/categories_v2/food/deli_",
            "suffix": ".png"
           },
           "id": 13039,
           "name": "Deli"
          },
          {
           "icon": {
            "prefix": "https://ss3.4sqi.net/img/categories_v2/food/dessert_",
            "suffix": ".png"
           },
           "id": 13047,
           "name": "Pastry Shop"
          }
         ],
         "chains": [],
         "distance": 623,
         "fsq_id": "59247f4e0d2be70573edd834",
         "geocodes": {
          "main": {
           "latitude": 48.857485,
           "longitude": 2.354957
          },
          "roof": {
           "latitude": 48.857485,
           "longitude": 2.354957
          }
         },
         "link": "/v3/places/59247f4e0d2be70573edd834",
         "location": {
          "address": "20 rue de la Verrerie",
          "admin_region": "Île-de-France",
          "country": "FR",
          "cross_street": "",
          "formatted_address": "20 rue de la Verrerie, 75004 Paris",
          "locality": "Paris",
          "postcode": "75004",
          "region": "Île-de-France"
         },
         "name": "Maison Aleph",
         "related_places": {},
         "timezone": "Europe/Paris"
        }
       ]
      },
      "text/plain": [
       "<IPython.core.display.JSON object>"
      ]
     },
     "execution_count": 19,
     "metadata": {
      "application/json": {
       "expanded": false,
       "root": "root"
      }
     },
     "output_type": "execute_result"
    }
   ],
   "source": [
    "url = \"https://api.foursquare.com/v3/places/search?near=Paris\"\n",
    "\n",
    "headers = {\n",
    "    \"accept\": \"application/json\",\n",
    "    \"Authorization\": \"API KEY\"\n",
    "}\n",
    "\n",
    "paris_locations = requests.get(url, headers=headers).json()\n",
    "\n",
    "JSON(paris_locations)"
   ]
  },
  {
   "cell_type": "markdown",
   "metadata": {},
   "source": [
    "Parse through the response to get the POI (such as restaurants, bars, etc) details you want (ratings, name, location, etc)"
   ]
  },
  {
   "cell_type": "markdown",
   "metadata": {},
   "source": [
    "Put your parsed results into a DataFrame"
   ]
  },
  {
   "cell_type": "code",
   "execution_count": 22,
   "metadata": {},
   "outputs": [],
   "source": [
    "# FUNCTION TO FIND LOCATIONS OF (Point of Interests) POIs NEAR THE BIKE STATIONS\n",
    "\n",
    "def foursquare_poi(df,headers):\n",
    "\n",
    "\n",
    "    # STORE API DATA\n",
    "    foursquare_list = []\n",
    "\n",
    "    # API FOR EACH BIKE STATION\n",
    "    for i in range(10):\n",
    "        lat = df.loc[i,'latitude']\n",
    "        lng = df.loc[i,'longitude']\n",
    "        url = f'https://api.foursquare.com/v3/places/search?ll={lat},{lng}'\n",
    "\n",
    "        response = requests.get(url, headers=headers)\n",
    "\n",
    "        foursquare_data=response.json()\n",
    "        \n",
    "        locations = foursquare_data['results']\n",
    "\n",
    "        for location in locations:\n",
    "            foursquare_list.append({\n",
    "                'fsq_id': location['fsq_id'],\n",
    "                \"category\": location['categories'][0]['name'],\n",
    "                'distance': location['distance'],\n",
    "                'latitude': location['geocodes']['main']['latitude'],\n",
    "                'longitude': location['geocodes']['main']['longitude'],   \n",
    "                'country': location['location']['country'],\n",
    "                'city': location.get('location', {}).get('locality', None),\n",
    "                'address': location['location']['address'],  \n",
    "                'name': location['name']\n",
    "                })\n",
    "            \n",
    "    foursquare_df = pd.DataFrame(foursquare_list)\n",
    "    return foursquare_df  "
   ]
  },
  {
   "cell_type": "code",
   "execution_count": 23,
   "metadata": {},
   "outputs": [
    {
     "data": {
      "text/html": [
       "<div>\n",
       "<style scoped>\n",
       "    .dataframe tbody tr th:only-of-type {\n",
       "        vertical-align: middle;\n",
       "    }\n",
       "\n",
       "    .dataframe tbody tr th {\n",
       "        vertical-align: top;\n",
       "    }\n",
       "\n",
       "    .dataframe thead th {\n",
       "        text-align: right;\n",
       "    }\n",
       "</style>\n",
       "<table border=\"1\" class=\"dataframe\">\n",
       "  <thead>\n",
       "    <tr style=\"text-align: right;\">\n",
       "      <th></th>\n",
       "      <th>fsq_id</th>\n",
       "      <th>category</th>\n",
       "      <th>distance</th>\n",
       "      <th>latitude</th>\n",
       "      <th>longitude</th>\n",
       "      <th>country</th>\n",
       "      <th>city</th>\n",
       "      <th>address</th>\n",
       "      <th>name</th>\n",
       "    </tr>\n",
       "  </thead>\n",
       "  <tbody>\n",
       "    <tr>\n",
       "      <th>0</th>\n",
       "      <td>4bb381b7eb3e9521d738cb0a</td>\n",
       "      <td>Plaza</td>\n",
       "      <td>904</td>\n",
       "      <td>48.862797</td>\n",
       "      <td>2.287281</td>\n",
       "      <td>FR</td>\n",
       "      <td>Paris</td>\n",
       "      <td>19 place du Trocadéro et du Onze Novembre</td>\n",
       "      <td>Place du Trocadéro</td>\n",
       "    </tr>\n",
       "    <tr>\n",
       "      <th>1</th>\n",
       "      <td>4adcda10f964a5209a3521e3</td>\n",
       "      <td>Museum</td>\n",
       "      <td>963</td>\n",
       "      <td>48.859254</td>\n",
       "      <td>2.267410</td>\n",
       "      <td>FR</td>\n",
       "      <td>Paris</td>\n",
       "      <td>2 rue Louis Boilly</td>\n",
       "      <td>Musée Marmottan Monet</td>\n",
       "    </tr>\n",
       "    <tr>\n",
       "      <th>2</th>\n",
       "      <td>4adcda0af964a520673421e3</td>\n",
       "      <td>Concert Hall</td>\n",
       "      <td>1007</td>\n",
       "      <td>48.862736</td>\n",
       "      <td>2.288449</td>\n",
       "      <td>FR</td>\n",
       "      <td>Paris</td>\n",
       "      <td>1 place du Trocadero 16th</td>\n",
       "      <td>Théâtre National de Chaillot</td>\n",
       "    </tr>\n",
       "    <tr>\n",
       "      <th>3</th>\n",
       "      <td>4adcda10f964a520bb3521e3</td>\n",
       "      <td>Museum</td>\n",
       "      <td>1012</td>\n",
       "      <td>48.862848</td>\n",
       "      <td>2.288517</td>\n",
       "      <td>FR</td>\n",
       "      <td>Paris</td>\n",
       "      <td>1 place du Trocadéro et du Onze Novembre</td>\n",
       "      <td>Cité de l'architecture et du patrimoine</td>\n",
       "    </tr>\n",
       "    <tr>\n",
       "      <th>4</th>\n",
       "      <td>4c40a4fbe26920a13c385de7</td>\n",
       "      <td>Caterer</td>\n",
       "      <td>1098</td>\n",
       "      <td>48.871192</td>\n",
       "      <td>2.288577</td>\n",
       "      <td>FR</td>\n",
       "      <td>Paris</td>\n",
       "      <td>48 avenue Victo rue Hugo</td>\n",
       "      <td>Lenôtre</td>\n",
       "    </tr>\n",
       "    <tr>\n",
       "      <th>...</th>\n",
       "      <td>...</td>\n",
       "      <td>...</td>\n",
       "      <td>...</td>\n",
       "      <td>...</td>\n",
       "      <td>...</td>\n",
       "      <td>...</td>\n",
       "      <td>...</td>\n",
       "      <td>...</td>\n",
       "      <td>...</td>\n",
       "    </tr>\n",
       "    <tr>\n",
       "      <th>95</th>\n",
       "      <td>4adcda15f964a520a53721e3</td>\n",
       "      <td>Concert Hall</td>\n",
       "      <td>546</td>\n",
       "      <td>48.877042</td>\n",
       "      <td>2.300986</td>\n",
       "      <td>FR</td>\n",
       "      <td>Paris</td>\n",
       "      <td>252 rue du Faubourg Saint Honore 8th</td>\n",
       "      <td>Salle Pleyel</td>\n",
       "    </tr>\n",
       "    <tr>\n",
       "      <th>96</th>\n",
       "      <td>50abd239e4b0869279d6a3af</td>\n",
       "      <td>Japanese Restaurant</td>\n",
       "      <td>716</td>\n",
       "      <td>48.875513</td>\n",
       "      <td>2.300553</td>\n",
       "      <td>FR</td>\n",
       "      <td>Paris</td>\n",
       "      <td>35-37 avenue Hoche</td>\n",
       "      <td>Matsuhisa Paris</td>\n",
       "    </tr>\n",
       "    <tr>\n",
       "      <th>97</th>\n",
       "      <td>4bd816a009ecb7135f03487c</td>\n",
       "      <td>Jewelry Store</td>\n",
       "      <td>981</td>\n",
       "      <td>48.873410</td>\n",
       "      <td>2.297495</td>\n",
       "      <td>FR</td>\n",
       "      <td>Paris</td>\n",
       "      <td>154 avenue des Champs Elysées</td>\n",
       "      <td>Cartier</td>\n",
       "    </tr>\n",
       "    <tr>\n",
       "      <th>98</th>\n",
       "      <td>4bbddcf1593fef3b31ea0356</td>\n",
       "      <td>Museum</td>\n",
       "      <td>1000</td>\n",
       "      <td>48.875308</td>\n",
       "      <td>2.310608</td>\n",
       "      <td>FR</td>\n",
       "      <td>Paris</td>\n",
       "      <td>158 boulevard Haussmann</td>\n",
       "      <td>Musée Jacquemart André</td>\n",
       "    </tr>\n",
       "    <tr>\n",
       "      <th>99</th>\n",
       "      <td>5b982ec3f5e9d7002cc1cd2d</td>\n",
       "      <td>Computers and Electronics Retail</td>\n",
       "      <td>1082</td>\n",
       "      <td>48.872368</td>\n",
       "      <td>2.301339</td>\n",
       "      <td>FR</td>\n",
       "      <td>Paris</td>\n",
       "      <td>114 avenue des Champs-Élysées</td>\n",
       "      <td>Apple Champs-Élysées</td>\n",
       "    </tr>\n",
       "  </tbody>\n",
       "</table>\n",
       "<p>100 rows × 9 columns</p>\n",
       "</div>"
      ],
      "text/plain": [
       "                      fsq_id                          category  distance  \\\n",
       "0   4bb381b7eb3e9521d738cb0a                             Plaza       904   \n",
       "1   4adcda10f964a5209a3521e3                            Museum       963   \n",
       "2   4adcda0af964a520673421e3                      Concert Hall      1007   \n",
       "3   4adcda10f964a520bb3521e3                            Museum      1012   \n",
       "4   4c40a4fbe26920a13c385de7                           Caterer      1098   \n",
       "..                       ...                               ...       ...   \n",
       "95  4adcda15f964a520a53721e3                      Concert Hall       546   \n",
       "96  50abd239e4b0869279d6a3af               Japanese Restaurant       716   \n",
       "97  4bd816a009ecb7135f03487c                     Jewelry Store       981   \n",
       "98  4bbddcf1593fef3b31ea0356                            Museum      1000   \n",
       "99  5b982ec3f5e9d7002cc1cd2d  Computers and Electronics Retail      1082   \n",
       "\n",
       "     latitude  longitude country   city  \\\n",
       "0   48.862797   2.287281      FR  Paris   \n",
       "1   48.859254   2.267410      FR  Paris   \n",
       "2   48.862736   2.288449      FR  Paris   \n",
       "3   48.862848   2.288517      FR  Paris   \n",
       "4   48.871192   2.288577      FR  Paris   \n",
       "..        ...        ...     ...    ...   \n",
       "95  48.877042   2.300986      FR  Paris   \n",
       "96  48.875513   2.300553      FR  Paris   \n",
       "97  48.873410   2.297495      FR  Paris   \n",
       "98  48.875308   2.310608      FR  Paris   \n",
       "99  48.872368   2.301339      FR  Paris   \n",
       "\n",
       "                                      address  \\\n",
       "0   19 place du Trocadéro et du Onze Novembre   \n",
       "1                          2 rue Louis Boilly   \n",
       "2                   1 place du Trocadero 16th   \n",
       "3    1 place du Trocadéro et du Onze Novembre   \n",
       "4                    48 avenue Victo rue Hugo   \n",
       "..                                        ...   \n",
       "95       252 rue du Faubourg Saint Honore 8th   \n",
       "96                         35-37 avenue Hoche   \n",
       "97              154 avenue des Champs Elysées   \n",
       "98                    158 boulevard Haussmann   \n",
       "99              114 avenue des Champs-Élysées   \n",
       "\n",
       "                                       name  \n",
       "0                        Place du Trocadéro  \n",
       "1                     Musée Marmottan Monet  \n",
       "2              Théâtre National de Chaillot  \n",
       "3   Cité de l'architecture et du patrimoine  \n",
       "4                                   Lenôtre  \n",
       "..                                      ...  \n",
       "95                             Salle Pleyel  \n",
       "96                          Matsuhisa Paris  \n",
       "97                                  Cartier  \n",
       "98                   Musée Jacquemart André  \n",
       "99                     Apple Champs-Élysées  \n",
       "\n",
       "[100 rows x 9 columns]"
      ]
     },
     "execution_count": 23,
     "metadata": {},
     "output_type": "execute_result"
    }
   ],
   "source": [
    "# BRING IN CITY_BIKES CSV \n",
    "city_bikes_df = pd.read_csv('city_bikes.csv')\n",
    "\n",
    "# USE NEW FUNCTION CREATED ABOVE WITH CITY_BIKES CSV\n",
    "foursquare_df = foursquare_poi(city_bikes_df,headers)\n",
    "foursquare_df"
   ]
  },
  {
   "cell_type": "code",
   "execution_count": 24,
   "metadata": {},
   "outputs": [],
   "source": [
    "# SAVE TO CSV\n",
    "foursquare_df.to_csv('foursquare_bikes.csv')  "
   ]
  },
  {
   "cell_type": "markdown",
   "metadata": {},
   "source": [
    "# Yelp"
   ]
  },
  {
   "cell_type": "markdown",
   "metadata": {},
   "source": [
    "Send a request to Yelp with a small radius (1000m) for all the bike stations in your city of choice. "
   ]
  },
  {
   "cell_type": "code",
   "execution_count": 25,
   "metadata": {},
   "outputs": [
    {
     "data": {
      "application/json": {
       "businesses": [
        {
         "alias": "musée-du-louvre-paris-2",
         "categories": [
          {
           "alias": "museums",
           "title": "Museums"
          }
         ],
         "coordinates": {
          "latitude": 48.86206,
          "longitude": 2.334521
         },
         "display_phone": "+33 1 40 20 50 50",
         "distance": 558.0335061024725,
         "id": "qq-0DAkiLPJivqCJff6nFw",
         "image_url": "https://s3-media3.fl.yelpcdn.com/bphoto/3meRJOo0uUTIhjP3aJeAgQ/o.jpg",
         "is_closed": false,
         "location": {
          "address1": "Place du Carrousel",
          "address2": "",
          "address3": "",
          "city": "Paris",
          "country": "FR",
          "display_address": [
           "Place du Carrousel",
           "75001 Paris",
           "France"
          ],
          "state": "75",
          "zip_code": "75001"
         },
         "name": "Musée du Louvre",
         "phone": "+33140205050",
         "rating": 4.5,
         "review_count": 1994,
         "transactions": [],
         "url": "https://www.yelp.com/biz/mus%C3%A9e-du-louvre-paris-2?adjust_creative=wkLjOHddFo6BqOjLmFkBRQ&utm_campaign=yelp_api_v3&utm_medium=api_v3_business_search&utm_source=wkLjOHddFo6BqOjLmFkBRQ"
        },
        {
         "alias": "la-tour-eiffel-paris-4",
         "categories": [
          {
           "alias": "landmarks",
           "title": "Landmarks & Historical Buildings"
          }
         ],
         "coordinates": {
          "latitude": 48.858368,
          "longitude": 2.29448028497734
         },
         "display_phone": "+33 892 70 12 39",
         "distance": 3509.898735052554,
         "id": "In3z-xigGXnYXlBS-mhOPg",
         "image_url": "https://s3-media3.fl.yelpcdn.com/bphoto/okyIasz5EPT1bomURcDJCQ/o.jpg",
         "is_closed": false,
         "location": {
          "address1": "5 avenue Anatole France",
          "address2": "",
          "address3": "Champ de Mars",
          "city": "Paris",
          "country": "FR",
          "display_address": [
           "5 avenue Anatole France",
           "Champ de Mars",
           "75007 Paris",
           "France"
          ],
          "state": "75",
          "zip_code": "75007"
         },
         "name": "La Tour Eiffel",
         "phone": "+33892701239",
         "rating": 4.5,
         "review_count": 2039,
         "transactions": [],
         "url": "https://www.yelp.com/biz/la-tour-eiffel-paris-4?adjust_creative=wkLjOHddFo6BqOjLmFkBRQ&utm_campaign=yelp_api_v3&utm_medium=api_v3_business_search&utm_source=wkLjOHddFo6BqOjLmFkBRQ"
        },
        {
         "alias": "le-comptoir-de-la-gastronomie-paris",
         "categories": [
          {
           "alias": "french",
           "title": "French"
          }
         ],
         "coordinates": {
          "latitude": 48.8645157999652,
          "longitude": 2.34540185646608
         },
         "display_phone": "+33 1 42 33 31 32",
         "distance": 370.8275165771047,
         "id": "-0iLH7iQNYtoURciDpJf6w",
         "image_url": "https://s3-media3.fl.yelpcdn.com/bphoto/xT4YkCm_cZWbKbz9AVEnaA/o.jpg",
         "is_closed": false,
         "location": {
          "address1": "34 rue Montmartre",
          "address2": "",
          "address3": "",
          "city": "Paris",
          "country": "FR",
          "display_address": [
           "34 rue Montmartre",
           "75001 Paris",
           "France"
          ],
          "state": "75",
          "zip_code": "75001"
         },
         "name": "Le Comptoir de la Gastronomie",
         "phone": "+33142333132",
         "price": "€€",
         "rating": 4.5,
         "review_count": 1216,
         "transactions": [],
         "url": "https://www.yelp.com/biz/le-comptoir-de-la-gastronomie-paris?adjust_creative=wkLjOHddFo6BqOjLmFkBRQ&utm_campaign=yelp_api_v3&utm_medium=api_v3_business_search&utm_source=wkLjOHddFo6BqOjLmFkBRQ"
        },
        {
         "alias": "l-as-du-fallafel-paris",
         "categories": [
          {
           "alias": "kosher",
           "title": "Kosher"
          },
          {
           "alias": "sandwiches",
           "title": "Sandwiches"
          },
          {
           "alias": "falafel",
           "title": "Falafel"
          }
         ],
         "coordinates": {
          "latitude": 48.857498,
          "longitude": 2.35908
         },
         "display_phone": "+33 1 48 87 63 60",
         "distance": 1334.296841418717,
         "id": "FFz-WusZrBYZexKqhqzCkg",
         "image_url": "https://s3-media2.fl.yelpcdn.com/bphoto/wdIhzKpjykaxsDiSCynQTA/o.jpg",
         "is_closed": false,
         "location": {
          "address1": "34 rue des Rosiers",
          "address2": "",
          "address3": "",
          "city": "Paris",
          "country": "FR",
          "display_address": [
           "34 rue des Rosiers",
           "75004 Paris",
           "France"
          ],
          "state": "75",
          "zip_code": "75004"
         },
         "name": "L'As du Fallafel",
         "phone": "+33148876360",
         "price": "€€",
         "rating": 4.5,
         "review_count": 1906,
         "transactions": [],
         "url": "https://www.yelp.com/biz/l-as-du-fallafel-paris?adjust_creative=wkLjOHddFo6BqOjLmFkBRQ&utm_campaign=yelp_api_v3&utm_medium=api_v3_business_search&utm_source=wkLjOHddFo6BqOjLmFkBRQ"
        },
        {
         "alias": "musée-d-orsay-paris-3",
         "categories": [
          {
           "alias": "museums",
           "title": "Museums"
          }
         ],
         "coordinates": {
          "latitude": 48.8604072252412,
          "longitude": 2.32502393267818
         },
         "display_phone": "+33 1 40 49 48 14",
         "distance": 1242.5926257335125,
         "id": "XlMMUoGIOhIE-aWRXgTd1A",
         "image_url": "https://s3-media3.fl.yelpcdn.com/bphoto/ewINQo_QxxemXp7DOnGd5Q/o.jpg",
         "is_closed": false,
         "location": {
          "address1": "1 rue de la Légion d'Honneur",
          "address2": null,
          "address3": null,
          "city": "Paris",
          "country": "FR",
          "display_address": [
           "1 rue de la Légion d'Honneur",
           "75007 Paris",
           "France"
          ],
          "state": "75",
          "zip_code": "75007"
         },
         "name": "Musée d’Orsay",
         "phone": "+33140494814",
         "rating": 4.5,
         "review_count": 886,
         "transactions": [],
         "url": "https://www.yelp.com/biz/mus%C3%A9e-d-orsay-paris-3?adjust_creative=wkLjOHddFo6BqOjLmFkBRQ&utm_campaign=yelp_api_v3&utm_medium=api_v3_business_search&utm_source=wkLjOHddFo6BqOjLmFkBRQ"
        },
        {
         "alias": "angelina-paris",
         "categories": [
          {
           "alias": "breakfast_brunch",
           "title": "Breakfast & Brunch"
          },
          {
           "alias": "tea",
           "title": "Tea Rooms"
          },
          {
           "alias": "cakeshop",
           "title": "Patisserie/Cake Shop"
          }
         ],
         "coordinates": {
          "latitude": 48.865092,
          "longitude": 2.328464
         },
         "display_phone": "+33 1 42 60 82 00",
         "distance": 1059.8775176567408,
         "id": "ijqSzadlZ9SCXvUEpMimcA",
         "image_url": "https://s3-media1.fl.yelpcdn.com/bphoto/LRnBdOHVdTY_pVGccxu9sg/o.jpg",
         "is_closed": false,
         "location": {
          "address1": "226 rue de Rivoli",
          "address2": null,
          "address3": null,
          "city": "Paris",
          "country": "FR",
          "display_address": [
           "226 rue de Rivoli",
           "75001 Paris",
           "France"
          ],
          "state": "75",
          "zip_code": "75001"
         },
         "name": "Angelina",
         "phone": "+33142608200",
         "price": "€€€",
         "rating": 4,
         "review_count": 1459,
         "transactions": [],
         "url": "https://www.yelp.com/biz/angelina-paris?adjust_creative=wkLjOHddFo6BqOjLmFkBRQ&utm_campaign=yelp_api_v3&utm_medium=api_v3_business_search&utm_source=wkLjOHddFo6BqOjLmFkBRQ"
        },
        {
         "alias": "berthillon-paris-2",
         "categories": [
          {
           "alias": "icecream",
           "title": "Ice Cream & Frozen Yogurt"
          },
          {
           "alias": "tea",
           "title": "Tea Rooms"
          }
         ],
         "coordinates": {
          "latitude": 48.851702,
          "longitude": 2.356713
         },
         "display_phone": "+33 1 43 54 31 61",
         "distance": 1560.8235537392516,
         "id": "eZ2DpDfJQgVx7iw5Itx_Xw",
         "image_url": "https://s3-media3.fl.yelpcdn.com/bphoto/u4uTEhC1tPhecL0nRASayw/o.jpg",
         "is_closed": false,
         "location": {
          "address1": "29-31 rue Saint-Louis en l'Île",
          "address2": null,
          "address3": null,
          "city": "Paris",
          "country": "FR",
          "display_address": [
           "29-31 rue Saint-Louis en l'Île",
           "75004 Paris",
           "France"
          ],
          "state": "75",
          "zip_code": "75004"
         },
         "name": "Berthillon",
         "phone": "+33143543161",
         "price": "€€",
         "rating": 4.5,
         "review_count": 744,
         "transactions": [],
         "url": "https://www.yelp.com/biz/berthillon-paris-2?adjust_creative=wkLjOHddFo6BqOjLmFkBRQ&utm_campaign=yelp_api_v3&utm_medium=api_v3_business_search&utm_source=wkLjOHddFo6BqOjLmFkBRQ"
        },
        {
         "alias": "ladurée-paris-19",
         "categories": [
          {
           "alias": "macarons",
           "title": "Macarons"
          },
          {
           "alias": "tea",
           "title": "Tea Rooms"
          }
         ],
         "coordinates": {
          "latitude": 48.870838,
          "longitude": 2.303188
         },
         "display_phone": "+33 1 40 75 08 75",
         "distance": 3015.9435637123443,
         "id": "2p6AznL_nybxJ3m8Lc9M_A",
         "image_url": "https://s3-media3.fl.yelpcdn.com/bphoto/gVX5rG-loe28L7wPM5rZoA/o.jpg",
         "is_closed": false,
         "location": {
          "address1": "75 avenue des Champs-Élysées",
          "address2": "",
          "address3": "",
          "city": "Paris",
          "country": "FR",
          "display_address": [
           "75 avenue des Champs-Élysées",
           "75008 Paris",
           "France"
          ],
          "state": "75",
          "zip_code": "75008"
         },
         "name": "Ladurée",
         "phone": "+33140750875",
         "price": "€€€",
         "rating": 4,
         "review_count": 1536,
         "transactions": [],
         "url": "https://www.yelp.com/biz/ladur%C3%A9e-paris-19?adjust_creative=wkLjOHddFo6BqOjLmFkBRQ&utm_campaign=yelp_api_v3&utm_medium=api_v3_business_search&utm_source=wkLjOHddFo6BqOjLmFkBRQ"
        },
        {
         "alias": "l-avant-comptoir-paris-3",
         "categories": [
          {
           "alias": "tapas",
           "title": "Tapas Bars"
          },
          {
           "alias": "wine_bars",
           "title": "Wine Bars"
          }
         ],
         "coordinates": {
          "latitude": 48.85202,
          "longitude": 2.3388
         },
         "display_phone": "+33 1 42 38 47 55",
         "distance": 1131.3338874175195,
         "id": "cEjF41ZQB8-SST8cd3EsEw",
         "image_url": "https://s3-media3.fl.yelpcdn.com/bphoto/mVwgxgmpUcAUOZKdxypwSw/o.jpg",
         "is_closed": false,
         "location": {
          "address1": "3 carrefour de l'Odéon",
          "address2": "",
          "address3": "",
          "city": "Paris",
          "country": "FR",
          "display_address": [
           "3 carrefour de l'Odéon",
           "75006 Paris",
           "France"
          ],
          "state": "75",
          "zip_code": "75006"
         },
         "name": "L'Avant Comptoir",
         "phone": "+33142384755",
         "price": "€€",
         "rating": 4.5,
         "review_count": 643,
         "transactions": [],
         "url": "https://www.yelp.com/biz/l-avant-comptoir-paris-3?adjust_creative=wkLjOHddFo6BqOjLmFkBRQ&utm_campaign=yelp_api_v3&utm_medium=api_v3_business_search&utm_source=wkLjOHddFo6BqOjLmFkBRQ"
        },
        {
         "alias": "l-arc-de-triomphe-paris-5",
         "categories": [
          {
           "alias": "landmarks",
           "title": "Landmarks & Historical Buildings"
          }
         ],
         "coordinates": {
          "latitude": 48.8738256014877,
          "longitude": 2.29502221103758
         },
         "display_phone": "+33 1 55 37 73 77",
         "distance": 3690.880795494037,
         "id": "dfiOVKCTnsufmStVL0b5cg",
         "image_url": "https://s3-media1.fl.yelpcdn.com/bphoto/DxcVK2HZprR5HYMdRpaWRg/o.jpg",
         "is_closed": false,
         "location": {
          "address1": "Place de l'Étoile",
          "address2": "",
          "address3": "",
          "city": "Paris",
          "country": "FR",
          "display_address": [
           "Place de l'Étoile",
           "75008 Paris",
           "France"
          ],
          "state": "75",
          "zip_code": "75008"
         },
         "name": "L'Arc de Triomphe",
         "phone": "+33155377377",
         "rating": 4.5,
         "review_count": 686,
         "transactions": [],
         "url": "https://www.yelp.com/biz/l-arc-de-triomphe-paris-5?adjust_creative=wkLjOHddFo6BqOjLmFkBRQ&utm_campaign=yelp_api_v3&utm_medium=api_v3_business_search&utm_source=wkLjOHddFo6BqOjLmFkBRQ"
        },
        {
         "alias": "basilique-du-sacré-cœur-de-montmartre-paris-3",
         "categories": [
          {
           "alias": "churches",
           "title": "Churches"
          },
          {
           "alias": "landmarks",
           "title": "Landmarks & Historical Buildings"
          }
         ],
         "coordinates": {
          "latitude": 48.88709,
          "longitude": 2.34343
         },
         "display_phone": "+33 1 53 41 89 00",
         "distance": 2721.2754836052877,
         "id": "spIGAtquYQ0S7xai5eJSuA",
         "image_url": "https://s3-media2.fl.yelpcdn.com/bphoto/vZWvQzMjr37SBfCJq_NrJw/o.jpg",
         "is_closed": false,
         "location": {
          "address1": "35 rue du Chevalier de la Barre",
          "address2": "",
          "address3": "",
          "city": "Paris",
          "country": "FR",
          "display_address": [
           "35 rue du Chevalier de la Barre",
           "75018 Paris",
           "France"
          ],
          "state": "75",
          "zip_code": "75018"
         },
         "name": "Basilique du Sacré-Cœur de Montmartre",
         "phone": "+33153418900",
         "rating": 4.5,
         "review_count": 595,
         "transactions": [],
         "url": "https://www.yelp.com/biz/basilique-du-sacr%C3%A9-c%C5%93ur-de-montmartre-paris-3?adjust_creative=wkLjOHddFo6BqOjLmFkBRQ&utm_campaign=yelp_api_v3&utm_medium=api_v3_business_search&utm_source=wkLjOHddFo6BqOjLmFkBRQ"
        },
        {
         "alias": "la-coïncidence-paris-4",
         "categories": [
          {
           "alias": "french",
           "title": "French"
          }
         ],
         "coordinates": {
          "latitude": 48.868105,
          "longitude": 2.284365
         },
         "display_phone": "+33 1 47 55 96 44",
         "distance": 4281.588159098756,
         "id": "WHHt_Jb8Tgidn9mW7oDnIg",
         "image_url": "https://s3-media2.fl.yelpcdn.com/bphoto/SQZZvLgpHbDE9A6JNCAQwQ/o.jpg",
         "is_closed": false,
         "location": {
          "address1": "15 rue Mesnil",
          "address2": "",
          "address3": "",
          "city": "Paris",
          "country": "FR",
          "display_address": [
           "15 rue Mesnil",
           "75116 Paris",
           "France"
          ],
          "state": "75",
          "zip_code": "75116"
         },
         "name": "La Coïncidence",
         "phone": "+33147559644",
         "price": "€€",
         "rating": 4.5,
         "review_count": 507,
         "transactions": [],
         "url": "https://www.yelp.com/biz/la-co%C3%AFncidence-paris-4?adjust_creative=wkLjOHddFo6BqOjLmFkBRQ&utm_campaign=yelp_api_v3&utm_medium=api_v3_business_search&utm_source=wkLjOHddFo6BqOjLmFkBRQ"
        },
        {
         "alias": "le-potager-du-père-thierry-paris-2",
         "categories": [
          {
           "alias": "french",
           "title": "French"
          }
         ],
         "coordinates": {
          "latitude": 48.884476,
          "longitude": 2.341335
         },
         "display_phone": "+33 1 53 28 26 20",
         "distance": 2504.5227183366774,
         "id": "657yy3D4SwyQN3xIjG1Iww",
         "image_url": "https://s3-media1.fl.yelpcdn.com/bphoto/_5T541BeMWkjwk-AZzQlgg/o.jpg",
         "is_closed": false,
         "location": {
          "address1": "16 rue des Trois Frères",
          "address2": null,
          "address3": null,
          "city": "Paris",
          "country": "FR",
          "display_address": [
           "16 rue des Trois Frères",
           "75018 Paris",
           "France"
          ],
          "state": "75",
          "zip_code": "75018"
         },
         "name": "Le Potager du Père Thierry",
         "phone": "+33153282620",
         "price": "€€",
         "rating": 4.5,
         "review_count": 448,
         "transactions": [],
         "url": "https://www.yelp.com/biz/le-potager-du-p%C3%A8re-thierry-paris-2?adjust_creative=wkLjOHddFo6BqOjLmFkBRQ&utm_campaign=yelp_api_v3&utm_medium=api_v3_business_search&utm_source=wkLjOHddFo6BqOjLmFkBRQ"
        },
        {
         "alias": "jardin-du-luxembourg-paris",
         "categories": [
          {
           "alias": "parks",
           "title": "Parks"
          }
         ],
         "coordinates": {
          "latitude": 48.8468096948025,
          "longitude": 2.33754648154959
         },
         "display_phone": "+33 1 40 71 75 60",
         "distance": 1717.7913481019966,
         "id": "59t0GoHQBACyUX22iUQ03w",
         "image_url": "https://s3-media1.fl.yelpcdn.com/bphoto/5qwkvMc5RM_O27KHXqiA0A/o.jpg",
         "is_closed": false,
         "location": {
          "address1": "Rue de Médicis",
          "address2": "",
          "address3": "",
          "city": "Paris",
          "country": "FR",
          "display_address": [
           "Rue de Médicis",
           "75006 Paris",
           "France"
          ],
          "state": "75",
          "zip_code": "75006"
         },
         "name": "Jardin du Luxembourg",
         "phone": "+33140717560",
         "rating": 4.5,
         "review_count": 380,
         "transactions": [],
         "url": "https://www.yelp.com/biz/jardin-du-luxembourg-paris?adjust_creative=wkLjOHddFo6BqOjLmFkBRQ&utm_campaign=yelp_api_v3&utm_medium=api_v3_business_search&utm_source=wkLjOHddFo6BqOjLmFkBRQ"
        },
        {
         "alias": "sanukiya-paris",
         "categories": [
          {
           "alias": "japanese",
           "title": "Japanese"
          }
         ],
         "coordinates": {
          "latitude": 48.8647,
          "longitude": 2.3338199
         },
         "display_phone": "+33 1 42 60 52 61",
         "distance": 687.1289064340056,
         "id": "PHsKPp496sFZm9K9Xz_TlA",
         "image_url": "https://s3-media2.fl.yelpcdn.com/bphoto/va06K79Pd2GouTO8nIDuhA/o.jpg",
         "is_closed": false,
         "location": {
          "address1": "9 rue d'Argenteuil",
          "address2": "",
          "address3": "",
          "city": "Paris",
          "country": "FR",
          "display_address": [
           "9 rue d'Argenteuil",
           "75001 Paris",
           "France"
          ],
          "state": "75",
          "zip_code": "75001"
         },
         "name": "Sanukiya",
         "phone": "+33142605261",
         "price": "€€",
         "rating": 4.5,
         "review_count": 371,
         "transactions": [],
         "url": "https://www.yelp.com/biz/sanukiya-paris?adjust_creative=wkLjOHddFo6BqOjLmFkBRQ&utm_campaign=yelp_api_v3&utm_medium=api_v3_business_search&utm_source=wkLjOHddFo6BqOjLmFkBRQ"
        },
        {
         "alias": "bistro-des-augustins-paris",
         "categories": [
          {
           "alias": "bistros",
           "title": "Bistros"
          },
          {
           "alias": "wine_bars",
           "title": "Wine Bars"
          }
         ],
         "coordinates": {
          "latitude": 48.854754,
          "longitude": 2.342119
         },
         "display_phone": "+33 1 43 54 04 41",
         "distance": 801.1176096949143,
         "id": "IU9_wVOGBKjfqTTpAXpKcQ",
         "image_url": "https://s3-media4.fl.yelpcdn.com/bphoto/b95P0AVVPerl1A2tUQL4VA/o.jpg",
         "is_closed": false,
         "location": {
          "address1": "39 quai des Grands Augustins",
          "address2": null,
          "address3": null,
          "city": "Paris",
          "country": "FR",
          "display_address": [
           "39 quai des Grands Augustins",
           "75006 Paris",
           "France"
          ],
          "state": "75",
          "zip_code": "75006"
         },
         "name": "Bistro des Augustins",
         "phone": "+33143540441",
         "price": "€€",
         "rating": 4.5,
         "review_count": 463,
         "transactions": [],
         "url": "https://www.yelp.com/biz/bistro-des-augustins-paris?adjust_creative=wkLjOHddFo6BqOjLmFkBRQ&utm_campaign=yelp_api_v3&utm_medium=api_v3_business_search&utm_source=wkLjOHddFo6BqOjLmFkBRQ"
        },
        {
         "alias": "blé-sucré-paris-2",
         "categories": [
          {
           "alias": "bakeries",
           "title": "Bakeries"
          }
         ],
         "coordinates": {
          "latitude": 48.850565,
          "longitude": 2.376759
         },
         "display_phone": "+33 1 43 40 77 73",
         "distance": 2831.426504410104,
         "id": "0ywhA79RdU_uwPsmXJcYKw",
         "image_url": "https://s3-media4.fl.yelpcdn.com/bphoto/UCLo1AyBriC800FEFntmOg/o.jpg",
         "is_closed": false,
         "location": {
          "address1": "7 rue Antoine Vollon",
          "address2": "",
          "address3": "",
          "city": "Paris",
          "country": "FR",
          "display_address": [
           "7 rue Antoine Vollon",
           "75012 Paris",
           "France"
          ],
          "state": "75",
          "zip_code": "75012"
         },
         "name": "Blé Sucré",
         "phone": "+33143407773",
         "price": "€",
         "rating": 4.5,
         "review_count": 314,
         "transactions": [],
         "url": "https://www.yelp.com/biz/bl%C3%A9-sucr%C3%A9-paris-2?adjust_creative=wkLjOHddFo6BqOjLmFkBRQ&utm_campaign=yelp_api_v3&utm_medium=api_v3_business_search&utm_source=wkLjOHddFo6BqOjLmFkBRQ"
        },
        {
         "alias": "le-bistro-du-périgord-paris-3",
         "categories": [
          {
           "alias": "bistros",
           "title": "Bistros"
          }
         ],
         "coordinates": {
          "latitude": 48.8498092201519,
          "longitude": 2.34515282327701
         },
         "display_phone": "+33 1 43 29 67 49",
         "distance": 1368.720540444579,
         "id": "pztzge22A_c_BfzLHCmaMw",
         "image_url": "https://s3-media2.fl.yelpcdn.com/bphoto/-F16XJgdbebwOdTMz6XVPQ/o.jpg",
         "is_closed": false,
         "location": {
          "address1": "71 rue Saint-Jacques",
          "address2": "",
          "address3": "",
          "city": "Paris",
          "country": "FR",
          "display_address": [
           "71 rue Saint-Jacques",
           "75005 Paris",
           "France"
          ],
          "state": "75",
          "zip_code": "75005"
         },
         "name": "Le Bistro du Périgord",
         "phone": "+33143296749",
         "price": "€€€",
         "rating": 4.5,
         "review_count": 364,
         "transactions": [],
         "url": "https://www.yelp.com/biz/le-bistro-du-p%C3%A9rigord-paris-3?adjust_creative=wkLjOHddFo6BqOjLmFkBRQ&utm_campaign=yelp_api_v3&utm_medium=api_v3_business_search&utm_source=wkLjOHddFo6BqOjLmFkBRQ"
        },
        {
         "alias": "les-antiquaires-paris",
         "categories": [
          {
           "alias": "bistros",
           "title": "Bistros"
          }
         ],
         "coordinates": {
          "latitude": 48.8580664639432,
          "longitude": 2.32823697067099
         },
         "display_phone": "+33 1 42 61 08 36",
         "distance": 1105.8560284268087,
         "id": "ctP4c3mwVO5oOzLI48LtuQ",
         "image_url": "https://s3-media3.fl.yelpcdn.com/bphoto/_4TQ2e-kOpyGCwehxxB4NQ/o.jpg",
         "is_closed": false,
         "location": {
          "address1": "13 rue du Bac",
          "address2": "",
          "address3": "",
          "city": "Paris",
          "country": "FR",
          "display_address": [
           "13 rue du Bac",
           "75007 Paris",
           "France"
          ],
          "state": "75",
          "zip_code": "75007"
         },
         "name": "Les Antiquaires",
         "phone": "+33142610836",
         "price": "€€€",
         "rating": 4.5,
         "review_count": 424,
         "transactions": [],
         "url": "https://www.yelp.com/biz/les-antiquaires-paris?adjust_creative=wkLjOHddFo6BqOjLmFkBRQ&utm_campaign=yelp_api_v3&utm_medium=api_v3_business_search&utm_source=wkLjOHddFo6BqOjLmFkBRQ"
        },
        {
         "alias": "holybelly-5-paris-2",
         "categories": [
          {
           "alias": "breakfast_brunch",
           "title": "Breakfast & Brunch"
          },
          {
           "alias": "coffee",
           "title": "Coffee & Tea"
          }
         ],
         "coordinates": {
          "latitude": 48.871022,
          "longitude": 2.359819
         },
         "display_phone": "+33 1 82 28 00 80",
         "distance": 1639.0251773730674,
         "id": "rbBs01WKKsVZG61q5IwJ_w",
         "image_url": "https://s3-media3.fl.yelpcdn.com/bphoto/cynfTIRfGrHNWZ_UF49_sg/o.jpg",
         "is_closed": false,
         "location": {
          "address1": "5 rue Lucien Sampaix",
          "address2": "",
          "address3": null,
          "city": "Paris",
          "country": "FR",
          "display_address": [
           "5 rue Lucien Sampaix",
           "75010 Paris",
           "France"
          ],
          "state": "75",
          "zip_code": "75010"
         },
         "name": "Holybelly 5",
         "phone": "+33182280080",
         "price": "€€",
         "rating": 4.5,
         "review_count": 263,
         "transactions": [],
         "url": "https://www.yelp.com/biz/holybelly-5-paris-2?adjust_creative=wkLjOHddFo6BqOjLmFkBRQ&utm_campaign=yelp_api_v3&utm_medium=api_v3_business_search&utm_source=wkLjOHddFo6BqOjLmFkBRQ"
        }
       ],
       "region": {
        "center": {
         "latitude": 48.86195860677958,
         "longitude": 2.3421478271484375
        }
       },
       "total": 20600
      },
      "text/plain": [
       "<IPython.core.display.JSON object>"
      ]
     },
     "execution_count": 25,
     "metadata": {
      "application/json": {
       "expanded": false,
       "root": "root"
      }
     },
     "output_type": "execute_result"
    }
   ],
   "source": [
    "url = \"https://api.yelp.com/v3/businesses/search\"\n",
    "headers = {'Authorization': 'Bearer <API KEY>'}\n",
    "\n",
    "params = {'location': 'paris'}\n",
    "\n",
    "response = requests.get(url, headers=headers, params=params).json()\n",
    "\n",
    "JSON(response)\n",
    "\n",
    "# NOTHING SHOWS WHEN LIMITED TO 1000M FOR SOMEREASON"
   ]
  },
  {
   "cell_type": "markdown",
   "metadata": {},
   "source": [
    "Parse through the response to get the POI (such as restaurants, bars, etc) details you want (ratings, name, location, etc)"
   ]
  },
  {
   "cell_type": "code",
   "execution_count": 26,
   "metadata": {},
   "outputs": [],
   "source": [
    "# FUNCTION TO FIND LOCATIONS OF (Point of Interests) POIs NEAR THE BIKE STATIONS\n",
    "\n",
    "def yelp_poi(df, headers):\n",
    "\n",
    "    # STORE API DATA\n",
    "    yelp_list = []\n",
    "\n",
    "    # API FOR EACH BIKE STATION\n",
    "    for i in range(10):\n",
    "        lat = df.loc[i,'latitude']\n",
    "        lng = df.loc[i,'longitude']\n",
    "        url = f'https://api.yelp.com/v3/businesses/search?latitude={lat}&longitude={lng}'\n",
    "\n",
    "        response = requests.get(url, headers=headers)\n",
    "\n",
    "        yelp_data = response.json()\n",
    "\n",
    "        locations = yelp_data['businesses']\n",
    "        \n",
    "        for location in yelp_data['businesses']:\n",
    "            yelp_list.append({\n",
    "                'name': location['name'],\n",
    "                'review_count': location['review_count'],\n",
    "                'rating': location['rating'],\n",
    "                'price' : location.get('price', None),\n",
    "                'catergory': location['categories'][0]['title'],\n",
    "                'latitude': location['coordinates']['latitude'],\n",
    "                'longitude': location['coordinates']['longitude']\n",
    "            })\n",
    "            \n",
    "    yelp_df = pd.DataFrame(yelp_list)\n",
    "    return yelp_df  "
   ]
  },
  {
   "cell_type": "markdown",
   "metadata": {},
   "source": [
    "Put your parsed results into a DataFrame"
   ]
  },
  {
   "cell_type": "code",
   "execution_count": 27,
   "metadata": {},
   "outputs": [],
   "source": [
    "# YELP REULTS INTO DATA FRAME\n",
    "yelp_df = yelp_poi(city_bikes_df,headers)"
   ]
  },
  {
   "cell_type": "code",
   "execution_count": 28,
   "metadata": {},
   "outputs": [
    {
     "data": {
      "text/html": [
       "<div>\n",
       "<style scoped>\n",
       "    .dataframe tbody tr th:only-of-type {\n",
       "        vertical-align: middle;\n",
       "    }\n",
       "\n",
       "    .dataframe tbody tr th {\n",
       "        vertical-align: top;\n",
       "    }\n",
       "\n",
       "    .dataframe thead th {\n",
       "        text-align: right;\n",
       "    }\n",
       "</style>\n",
       "<table border=\"1\" class=\"dataframe\">\n",
       "  <thead>\n",
       "    <tr style=\"text-align: right;\">\n",
       "      <th></th>\n",
       "      <th>name</th>\n",
       "      <th>review_count</th>\n",
       "      <th>rating</th>\n",
       "      <th>price</th>\n",
       "      <th>catergory</th>\n",
       "      <th>latitude</th>\n",
       "      <th>longitude</th>\n",
       "    </tr>\n",
       "  </thead>\n",
       "  <tbody>\n",
       "    <tr>\n",
       "      <th>0</th>\n",
       "      <td>La Tour Eiffel</td>\n",
       "      <td>2039</td>\n",
       "      <td>4.5</td>\n",
       "      <td>None</td>\n",
       "      <td>Landmarks &amp; Historical Buildings</td>\n",
       "      <td>48.858368</td>\n",
       "      <td>2.294480</td>\n",
       "    </tr>\n",
       "    <tr>\n",
       "      <th>1</th>\n",
       "      <td>La Coïncidence</td>\n",
       "      <td>507</td>\n",
       "      <td>4.5</td>\n",
       "      <td>€€</td>\n",
       "      <td>French</td>\n",
       "      <td>48.868105</td>\n",
       "      <td>2.284365</td>\n",
       "    </tr>\n",
       "    <tr>\n",
       "      <th>2</th>\n",
       "      <td>L'Arc de Triomphe</td>\n",
       "      <td>686</td>\n",
       "      <td>4.5</td>\n",
       "      <td>None</td>\n",
       "      <td>Landmarks &amp; Historical Buildings</td>\n",
       "      <td>48.873826</td>\n",
       "      <td>2.295022</td>\n",
       "    </tr>\n",
       "    <tr>\n",
       "      <th>3</th>\n",
       "      <td>Ladurée</td>\n",
       "      <td>1536</td>\n",
       "      <td>4.0</td>\n",
       "      <td>€€€</td>\n",
       "      <td>Macarons</td>\n",
       "      <td>48.870838</td>\n",
       "      <td>2.303188</td>\n",
       "    </tr>\n",
       "    <tr>\n",
       "      <th>4</th>\n",
       "      <td>Les Cocottes</td>\n",
       "      <td>539</td>\n",
       "      <td>4.0</td>\n",
       "      <td>€€€</td>\n",
       "      <td>Bistros</td>\n",
       "      <td>48.858190</td>\n",
       "      <td>2.301830</td>\n",
       "    </tr>\n",
       "    <tr>\n",
       "      <th>...</th>\n",
       "      <td>...</td>\n",
       "      <td>...</td>\n",
       "      <td>...</td>\n",
       "      <td>...</td>\n",
       "      <td>...</td>\n",
       "      <td>...</td>\n",
       "      <td>...</td>\n",
       "    </tr>\n",
       "    <tr>\n",
       "      <th>195</th>\n",
       "      <td>Chez Gabrielle</td>\n",
       "      <td>68</td>\n",
       "      <td>4.5</td>\n",
       "      <td>€€€</td>\n",
       "      <td>French</td>\n",
       "      <td>48.876690</td>\n",
       "      <td>2.296190</td>\n",
       "    </tr>\n",
       "    <tr>\n",
       "      <th>196</th>\n",
       "      <td>Taillevent</td>\n",
       "      <td>91</td>\n",
       "      <td>4.5</td>\n",
       "      <td>€€€€</td>\n",
       "      <td>French</td>\n",
       "      <td>48.874280</td>\n",
       "      <td>2.302430</td>\n",
       "    </tr>\n",
       "    <tr>\n",
       "      <th>197</th>\n",
       "      <td>L'Atelier de Joël Robuchon</td>\n",
       "      <td>153</td>\n",
       "      <td>4.0</td>\n",
       "      <td>€€€€</td>\n",
       "      <td>French</td>\n",
       "      <td>48.872800</td>\n",
       "      <td>2.296980</td>\n",
       "    </tr>\n",
       "    <tr>\n",
       "      <th>198</th>\n",
       "      <td>Les Cocottes</td>\n",
       "      <td>539</td>\n",
       "      <td>4.0</td>\n",
       "      <td>€€€</td>\n",
       "      <td>Bistros</td>\n",
       "      <td>48.858190</td>\n",
       "      <td>2.301830</td>\n",
       "    </tr>\n",
       "    <tr>\n",
       "      <th>199</th>\n",
       "      <td>Opéra National de Paris - Palais Garnier</td>\n",
       "      <td>245</td>\n",
       "      <td>4.5</td>\n",
       "      <td>None</td>\n",
       "      <td>Landmarks &amp; Historical Buildings</td>\n",
       "      <td>48.871944</td>\n",
       "      <td>2.331667</td>\n",
       "    </tr>\n",
       "  </tbody>\n",
       "</table>\n",
       "<p>200 rows × 7 columns</p>\n",
       "</div>"
      ],
      "text/plain": [
       "                                         name  review_count  rating price  \\\n",
       "0                              La Tour Eiffel          2039     4.5  None   \n",
       "1                              La Coïncidence           507     4.5    €€   \n",
       "2                           L'Arc de Triomphe           686     4.5  None   \n",
       "3                                     Ladurée          1536     4.0   €€€   \n",
       "4                                Les Cocottes           539     4.0   €€€   \n",
       "..                                        ...           ...     ...   ...   \n",
       "195                            Chez Gabrielle            68     4.5   €€€   \n",
       "196                                Taillevent            91     4.5  €€€€   \n",
       "197                L'Atelier de Joël Robuchon           153     4.0  €€€€   \n",
       "198                              Les Cocottes           539     4.0   €€€   \n",
       "199  Opéra National de Paris - Palais Garnier           245     4.5  None   \n",
       "\n",
       "                            catergory   latitude  longitude  \n",
       "0    Landmarks & Historical Buildings  48.858368   2.294480  \n",
       "1                              French  48.868105   2.284365  \n",
       "2    Landmarks & Historical Buildings  48.873826   2.295022  \n",
       "3                            Macarons  48.870838   2.303188  \n",
       "4                             Bistros  48.858190   2.301830  \n",
       "..                                ...        ...        ...  \n",
       "195                            French  48.876690   2.296190  \n",
       "196                            French  48.874280   2.302430  \n",
       "197                            French  48.872800   2.296980  \n",
       "198                           Bistros  48.858190   2.301830  \n",
       "199  Landmarks & Historical Buildings  48.871944   2.331667  \n",
       "\n",
       "[200 rows x 7 columns]"
      ]
     },
     "execution_count": 28,
     "metadata": {},
     "output_type": "execute_result"
    }
   ],
   "source": [
    "yelp_df"
   ]
  },
  {
   "cell_type": "code",
   "execution_count": 29,
   "metadata": {},
   "outputs": [],
   "source": [
    "# SAVE TO CSV\n",
    "yelp_df.to_csv('yelp_bikes.csv')  "
   ]
  },
  {
   "cell_type": "markdown",
   "metadata": {},
   "source": [
    "# Comparing Results"
   ]
  },
  {
   "cell_type": "markdown",
   "metadata": {},
   "source": [
    "Which API provided you with more complete data? Provide an explanation. "
   ]
  },
  {
   "cell_type": "markdown",
   "metadata": {},
   "source": [
    "The Foursquare API was able to find points of interest in Milan while Yelp included milan and the surrounding area. Foursquare has more definitive/complete data here as it is only looking at the city of Milan\n",
    "\n",
    "However, Yelp has much more details about the point of interests such as ratings, review counts, price tiers, etc."
   ]
  },
  {
   "cell_type": "markdown",
   "metadata": {},
   "source": [
    "Get the top 10 restaurants according to their rating"
   ]
  },
  {
   "cell_type": "code",
   "execution_count": 30,
   "metadata": {},
   "outputs": [
    {
     "data": {
      "text/html": [
       "<div>\n",
       "<style scoped>\n",
       "    .dataframe tbody tr th:only-of-type {\n",
       "        vertical-align: middle;\n",
       "    }\n",
       "\n",
       "    .dataframe tbody tr th {\n",
       "        vertical-align: top;\n",
       "    }\n",
       "\n",
       "    .dataframe thead th {\n",
       "        text-align: right;\n",
       "    }\n",
       "</style>\n",
       "<table border=\"1\" class=\"dataframe\">\n",
       "  <thead>\n",
       "    <tr style=\"text-align: right;\">\n",
       "      <th></th>\n",
       "      <th>name</th>\n",
       "      <th>review_count</th>\n",
       "      <th>rating</th>\n",
       "      <th>price</th>\n",
       "      <th>catergory</th>\n",
       "      <th>latitude</th>\n",
       "      <th>longitude</th>\n",
       "    </tr>\n",
       "  </thead>\n",
       "  <tbody>\n",
       "    <tr>\n",
       "      <th>179</th>\n",
       "      <td>A. Lacroix</td>\n",
       "      <td>85</td>\n",
       "      <td>5.0</td>\n",
       "      <td>€€</td>\n",
       "      <td>Coffee &amp; Tea</td>\n",
       "      <td>48.851727</td>\n",
       "      <td>2.349427</td>\n",
       "    </tr>\n",
       "    <tr>\n",
       "      <th>96</th>\n",
       "      <td>La Vache et le Cuisinier</td>\n",
       "      <td>79</td>\n",
       "      <td>5.0</td>\n",
       "      <td>€€€</td>\n",
       "      <td>French</td>\n",
       "      <td>48.884609</td>\n",
       "      <td>2.341200</td>\n",
       "    </tr>\n",
       "    <tr>\n",
       "      <th>15</th>\n",
       "      <td>Langousta</td>\n",
       "      <td>38</td>\n",
       "      <td>5.0</td>\n",
       "      <td>€€</td>\n",
       "      <td>Seafood</td>\n",
       "      <td>48.856266</td>\n",
       "      <td>2.278149</td>\n",
       "    </tr>\n",
       "    <tr>\n",
       "      <th>0</th>\n",
       "      <td>La Tour Eiffel</td>\n",
       "      <td>2039</td>\n",
       "      <td>4.5</td>\n",
       "      <td>None</td>\n",
       "      <td>Landmarks &amp; Historical Buildings</td>\n",
       "      <td>48.858368</td>\n",
       "      <td>2.294480</td>\n",
       "    </tr>\n",
       "    <tr>\n",
       "      <th>67</th>\n",
       "      <td>La Tour Eiffel</td>\n",
       "      <td>2039</td>\n",
       "      <td>4.5</td>\n",
       "      <td>None</td>\n",
       "      <td>Landmarks &amp; Historical Buildings</td>\n",
       "      <td>48.858368</td>\n",
       "      <td>2.294480</td>\n",
       "    </tr>\n",
       "    <tr>\n",
       "      <th>90</th>\n",
       "      <td>La Tour Eiffel</td>\n",
       "      <td>2039</td>\n",
       "      <td>4.5</td>\n",
       "      <td>None</td>\n",
       "      <td>Landmarks &amp; Historical Buildings</td>\n",
       "      <td>48.858368</td>\n",
       "      <td>2.294480</td>\n",
       "    </tr>\n",
       "    <tr>\n",
       "      <th>142</th>\n",
       "      <td>La Tour Eiffel</td>\n",
       "      <td>2039</td>\n",
       "      <td>4.5</td>\n",
       "      <td>None</td>\n",
       "      <td>Landmarks &amp; Historical Buildings</td>\n",
       "      <td>48.858368</td>\n",
       "      <td>2.294480</td>\n",
       "    </tr>\n",
       "    <tr>\n",
       "      <th>182</th>\n",
       "      <td>La Tour Eiffel</td>\n",
       "      <td>2039</td>\n",
       "      <td>4.5</td>\n",
       "      <td>None</td>\n",
       "      <td>Landmarks &amp; Historical Buildings</td>\n",
       "      <td>48.858368</td>\n",
       "      <td>2.294480</td>\n",
       "    </tr>\n",
       "    <tr>\n",
       "      <th>20</th>\n",
       "      <td>Musée du Louvre</td>\n",
       "      <td>1994</td>\n",
       "      <td>4.5</td>\n",
       "      <td>None</td>\n",
       "      <td>Museums</td>\n",
       "      <td>48.862060</td>\n",
       "      <td>2.334521</td>\n",
       "    </tr>\n",
       "    <tr>\n",
       "      <th>43</th>\n",
       "      <td>Musée du Louvre</td>\n",
       "      <td>1994</td>\n",
       "      <td>4.5</td>\n",
       "      <td>None</td>\n",
       "      <td>Museums</td>\n",
       "      <td>48.862060</td>\n",
       "      <td>2.334521</td>\n",
       "    </tr>\n",
       "  </tbody>\n",
       "</table>\n",
       "</div>"
      ],
      "text/plain": [
       "                         name  review_count  rating price  \\\n",
       "179                A. Lacroix            85     5.0    €€   \n",
       "96   La Vache et le Cuisinier            79     5.0   €€€   \n",
       "15                  Langousta            38     5.0    €€   \n",
       "0              La Tour Eiffel          2039     4.5  None   \n",
       "67             La Tour Eiffel          2039     4.5  None   \n",
       "90             La Tour Eiffel          2039     4.5  None   \n",
       "142            La Tour Eiffel          2039     4.5  None   \n",
       "182            La Tour Eiffel          2039     4.5  None   \n",
       "20            Musée du Louvre          1994     4.5  None   \n",
       "43            Musée du Louvre          1994     4.5  None   \n",
       "\n",
       "                            catergory   latitude  longitude  \n",
       "179                      Coffee & Tea  48.851727   2.349427  \n",
       "96                             French  48.884609   2.341200  \n",
       "15                            Seafood  48.856266   2.278149  \n",
       "0    Landmarks & Historical Buildings  48.858368   2.294480  \n",
       "67   Landmarks & Historical Buildings  48.858368   2.294480  \n",
       "90   Landmarks & Historical Buildings  48.858368   2.294480  \n",
       "142  Landmarks & Historical Buildings  48.858368   2.294480  \n",
       "182  Landmarks & Historical Buildings  48.858368   2.294480  \n",
       "20                            Museums  48.862060   2.334521  \n",
       "43                            Museums  48.862060   2.334521  "
      ]
     },
     "execution_count": 30,
     "metadata": {},
     "output_type": "execute_result"
    }
   ],
   "source": [
    "top_10 = yelp_df.sort_values(by=['rating', 'review_count'], ascending=[False, False]).head(10)\n",
    "top_10"
   ]
  },
  {
   "cell_type": "code",
   "execution_count": null,
   "metadata": {},
   "outputs": [],
   "source": []
  },
  {
   "cell_type": "code",
   "execution_count": null,
   "metadata": {},
   "outputs": [],
   "source": []
  }
 ],
 "metadata": {
  "kernelspec": {
   "display_name": "Python 3 (ipykernel)",
   "language": "python",
   "name": "python3"
  },
  "language_info": {
   "codemirror_mode": {
    "name": "ipython",
    "version": 3
   },
   "file_extension": ".py",
   "mimetype": "text/x-python",
   "name": "python",
   "nbconvert_exporter": "python",
   "pygments_lexer": "ipython3",
   "version": "3.9.13"
  }
 },
 "nbformat": 4,
 "nbformat_minor": 4
}

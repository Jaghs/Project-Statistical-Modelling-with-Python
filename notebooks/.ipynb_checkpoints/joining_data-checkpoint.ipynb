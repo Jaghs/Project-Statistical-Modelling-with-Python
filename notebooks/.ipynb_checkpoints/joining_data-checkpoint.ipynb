{
 "cells": [
  {
   "cell_type": "markdown",
   "metadata": {},
   "source": [
    "Join the data from Part 1 with the data from Part 2 to create a new dataframe."
   ]
  },
  {
   "cell_type": "code",
   "execution_count": 2,
   "metadata": {},
   "outputs": [],
   "source": [
    "# IMPORTS\n",
    "import pandas as pd\n",
    "import json\n",
    "import matplotlib.pyplot as plt\n",
    "import sqlite3\n",
    "from sqlite3 import Error"
   ]
  },
  {
   "cell_type": "markdown",
   "metadata": {},
   "source": [
    "Provide a visualization that you used as part of your EDA process. Explain the initial pattern or relationship you discoved through this visualization. "
   ]
  },
  {
   "cell_type": "code",
   "execution_count": 3,
   "metadata": {},
   "outputs": [],
   "source": [
    "# IMPORT OTHER NOTEBOOKS IN:\n",
    "city_bikes_df = pd.read_csv('city_bikes.csv',index_col=0) #removed unnamed column\n",
    "foursquare_df = pd.read_csv('foursquare_bikes.csv',index_col=0) #removed unnamed column\n",
    "yelp_df = pd.read_csv('yelp_bikes.csv', index_col=0) #removed unnamed column"
   ]
  },
  {
   "cell_type": "code",
   "execution_count": 19,
   "metadata": {},
   "outputs": [],
   "source": [
    "# MERGING TABLES\n",
    "merged_df1 = pd.merge(city_bikes_df, foursquare_df, on=['latitude', 'longitude'],how='inner')\n",
    "merged_df2 = pd.merge(merged_df1, yelp_df, on=['latitude', 'longitude'],how='inner')\n",
    "\n",
    "# ROUND ALL LATITUDE AND LONGITUDE VALUES TO HAVE GREATER MERGING ABILITY\n",
    "merged_df2['longitude'] = merged_df2['longitude'].round(2)\n",
    "merged_df2['latitude'] = merged_df2['latitude'].round(2)\n",
    "\n",
    "# DROP ROWS WITH NAN VALUES\n",
    "merged_df1_row = merged_df1.dropna(axis=0)\n",
    "merged_df2_row = merged_df2.dropna(axis=0)\n",
    "\n",
    "# DROP COLUMNS WITH NAN VLAUES\n",
    "merged_df1_col = merged_df1.dropna(axis=1)\n",
    "merged_df2_col = merged_df2.dropna(axis=1)"
   ]
  },
  {
   "cell_type": "code",
   "execution_count": 22,
   "metadata": {},
   "outputs": [
    {
     "data": {
      "text/html": [
       "<div>\n",
       "<style scoped>\n",
       "    .dataframe tbody tr th:only-of-type {\n",
       "        vertical-align: middle;\n",
       "    }\n",
       "\n",
       "    .dataframe tbody tr th {\n",
       "        vertical-align: top;\n",
       "    }\n",
       "\n",
       "    .dataframe thead th {\n",
       "        text-align: right;\n",
       "    }\n",
       "</style>\n",
       "<table border=\"1\" class=\"dataframe\">\n",
       "  <thead>\n",
       "    <tr style=\"text-align: right;\">\n",
       "      <th></th>\n",
       "      <th>name_x</th>\n",
       "      <th>latitude</th>\n",
       "      <th>longitude</th>\n",
       "      <th>free_bikes</th>\n",
       "      <th>fsq_id</th>\n",
       "      <th>category</th>\n",
       "      <th>distance</th>\n",
       "      <th>country</th>\n",
       "      <th>city</th>\n",
       "      <th>address</th>\n",
       "      <th>name_y</th>\n",
       "      <th>name</th>\n",
       "      <th>review_count</th>\n",
       "      <th>rating</th>\n",
       "      <th>price</th>\n",
       "      <th>catergory</th>\n",
       "    </tr>\n",
       "  </thead>\n",
       "  <tbody>\n",
       "    <tr>\n",
       "      <th>0</th>\n",
       "      <td>André Mazet - Saint-André des Arts</td>\n",
       "      <td>48.85</td>\n",
       "      <td>2.34</td>\n",
       "      <td>23</td>\n",
       "      <td>4bbde5128a4fb713b57e3d9d</td>\n",
       "      <td>Tea Room</td>\n",
       "      <td>52</td>\n",
       "      <td>FR</td>\n",
       "      <td>Paris</td>\n",
       "      <td>59-61 rue Saint-André des Arts</td>\n",
       "      <td>La Jacobine</td>\n",
       "      <td>L'Avant Comptoir</td>\n",
       "      <td>643</td>\n",
       "      <td>4.5</td>\n",
       "      <td>€€</td>\n",
       "      <td>Tapas Bars</td>\n",
       "    </tr>\n",
       "    <tr>\n",
       "      <th>1</th>\n",
       "      <td>André Mazet - Saint-André des Arts</td>\n",
       "      <td>48.85</td>\n",
       "      <td>2.34</td>\n",
       "      <td>23</td>\n",
       "      <td>4bbde5128a4fb713b57e3d9d</td>\n",
       "      <td>Tea Room</td>\n",
       "      <td>52</td>\n",
       "      <td>FR</td>\n",
       "      <td>Paris</td>\n",
       "      <td>59-61 rue Saint-André des Arts</td>\n",
       "      <td>La Jacobine</td>\n",
       "      <td>Bistro des Augustins</td>\n",
       "      <td>463</td>\n",
       "      <td>4.5</td>\n",
       "      <td>€€</td>\n",
       "      <td>Bistros</td>\n",
       "    </tr>\n",
       "    <tr>\n",
       "      <th>2</th>\n",
       "      <td>André Mazet - Saint-André des Arts</td>\n",
       "      <td>48.85</td>\n",
       "      <td>2.34</td>\n",
       "      <td>23</td>\n",
       "      <td>4bbde5128a4fb713b57e3d9d</td>\n",
       "      <td>Tea Room</td>\n",
       "      <td>52</td>\n",
       "      <td>FR</td>\n",
       "      <td>Paris</td>\n",
       "      <td>59-61 rue Saint-André des Arts</td>\n",
       "      <td>La Jacobine</td>\n",
       "      <td>La Jacobine</td>\n",
       "      <td>313</td>\n",
       "      <td>4.5</td>\n",
       "      <td>€€€</td>\n",
       "      <td>Tea Rooms</td>\n",
       "    </tr>\n",
       "    <tr>\n",
       "      <th>3</th>\n",
       "      <td>André Mazet - Saint-André des Arts</td>\n",
       "      <td>48.85</td>\n",
       "      <td>2.34</td>\n",
       "      <td>23</td>\n",
       "      <td>4bbde5128a4fb713b57e3d9d</td>\n",
       "      <td>Tea Room</td>\n",
       "      <td>52</td>\n",
       "      <td>FR</td>\n",
       "      <td>Paris</td>\n",
       "      <td>59-61 rue Saint-André des Arts</td>\n",
       "      <td>La Jacobine</td>\n",
       "      <td>Jardin du Luxembourg</td>\n",
       "      <td>380</td>\n",
       "      <td>4.5</td>\n",
       "      <td>NaN</td>\n",
       "      <td>Parks</td>\n",
       "    </tr>\n",
       "    <tr>\n",
       "      <th>4</th>\n",
       "      <td>André Mazet - Saint-André des Arts</td>\n",
       "      <td>48.85</td>\n",
       "      <td>2.34</td>\n",
       "      <td>23</td>\n",
       "      <td>4bbde5128a4fb713b57e3d9d</td>\n",
       "      <td>Tea Room</td>\n",
       "      <td>52</td>\n",
       "      <td>FR</td>\n",
       "      <td>Paris</td>\n",
       "      <td>59-61 rue Saint-André des Arts</td>\n",
       "      <td>La Jacobine</td>\n",
       "      <td>Little Breizh</td>\n",
       "      <td>209</td>\n",
       "      <td>4.5</td>\n",
       "      <td>€€</td>\n",
       "      <td>Creperies</td>\n",
       "    </tr>\n",
       "  </tbody>\n",
       "</table>\n",
       "</div>"
      ],
      "text/plain": [
       "                               name_x  latitude  longitude  free_bikes  \\\n",
       "0  André Mazet - Saint-André des Arts     48.85       2.34          23   \n",
       "1  André Mazet - Saint-André des Arts     48.85       2.34          23   \n",
       "2  André Mazet - Saint-André des Arts     48.85       2.34          23   \n",
       "3  André Mazet - Saint-André des Arts     48.85       2.34          23   \n",
       "4  André Mazet - Saint-André des Arts     48.85       2.34          23   \n",
       "\n",
       "                     fsq_id  category  distance country   city  \\\n",
       "0  4bbde5128a4fb713b57e3d9d  Tea Room        52      FR  Paris   \n",
       "1  4bbde5128a4fb713b57e3d9d  Tea Room        52      FR  Paris   \n",
       "2  4bbde5128a4fb713b57e3d9d  Tea Room        52      FR  Paris   \n",
       "3  4bbde5128a4fb713b57e3d9d  Tea Room        52      FR  Paris   \n",
       "4  4bbde5128a4fb713b57e3d9d  Tea Room        52      FR  Paris   \n",
       "\n",
       "                          address       name_y                  name  \\\n",
       "0  59-61 rue Saint-André des Arts  La Jacobine      L'Avant Comptoir   \n",
       "1  59-61 rue Saint-André des Arts  La Jacobine  Bistro des Augustins   \n",
       "2  59-61 rue Saint-André des Arts  La Jacobine           La Jacobine   \n",
       "3  59-61 rue Saint-André des Arts  La Jacobine  Jardin du Luxembourg   \n",
       "4  59-61 rue Saint-André des Arts  La Jacobine         Little Breizh   \n",
       "\n",
       "   review_count  rating price   catergory  \n",
       "0           643     4.5    €€  Tapas Bars  \n",
       "1           463     4.5    €€     Bistros  \n",
       "2           313     4.5   €€€   Tea Rooms  \n",
       "3           380     4.5   NaN       Parks  \n",
       "4           209     4.5    €€   Creperies  "
      ]
     },
     "execution_count": 22,
     "metadata": {},
     "output_type": "execute_result"
    }
   ],
   "source": [
    "merged_df2.to_csv('merged.csv')  \n",
    "merged_df2.head()"
   ]
  },
  {
   "cell_type": "code",
   "execution_count": 23,
   "metadata": {},
   "outputs": [
    {
     "data": {
      "image/png": "[encoded data removed]",
      "text/plain": [
       "<Figure size 800x600 with 1 Axes>"
      ]
     },
     "metadata": {},
     "output_type": "display_data"
    }
   ],
   "source": [
    "# SCATTER PLOT\n",
    "\n",
    "fig, ax = plt.subplots(figsize=(8, 6))\n",
    "ax.scatter(x=merged_df2['distance'], y=merged_df2['free_bikes'])\n",
    "ax.set_xlabel('Distance')\n",
    "ax.set_ylabel('Free Bikes')\n",
    "ax.set_title('Free Bikes & Distance')\n",
    "\n",
    "plt.show()"
   ]
  },
  {
   "cell_type": "markdown",
   "metadata": {},
   "source": [
    "We can see above that the farther the distance the less free bikes in general with some exceptions."
   ]
  },
  {
   "cell_type": "markdown",
   "metadata": {},
   "source": [
    "# Database"
   ]
  },
  {
   "cell_type": "markdown",
   "metadata": {},
   "source": [
    "Put all your results in an SQLite3 database (remember, SQLite stores its databases as files in your local machine - make sure to create your database in your project's data/ directory!)"
   ]
  },
  {
   "cell_type": "code",
   "execution_count": 24,
   "metadata": {},
   "outputs": [],
   "source": [
    "def create_connection(path):\n",
    "    connection = None\n",
    "    try:\n",
    "        connection = sqlite3.connect(path)\n",
    "        print(\"Connection to SQLite DB successful\")\n",
    "    except Error as e:\n",
    "        print(f\"The error '{e}' occurred\")\n",
    "\n",
    "    return connection"
   ]
  },
  {
   "cell_type": "code",
   "execution_count": 25,
   "metadata": {},
   "outputs": [
    {
     "name": "stdout",
     "output_type": "stream",
     "text": [
      "Connection to SQLite DB successful\n"
     ]
    }
   ],
   "source": [
    "connection = create_connection(\"sqldata.sqlite\")"
   ]
  },
  {
   "cell_type": "code",
   "execution_count": 26,
   "metadata": {},
   "outputs": [],
   "source": [
    "merged_df2.to_sql(\"merged_df2\", connection, if_exists=\"replace\")\n",
    "\n",
    "# CLOSE CONNECTION\n",
    "connection.close()"
   ]
  },
  {
   "cell_type": "markdown",
   "metadata": {},
   "source": [
    "Look at the data before and after the join to validate your data."
   ]
  },
  {
   "cell_type": "code",
   "execution_count": null,
   "metadata": {},
   "outputs": [],
   "source": []
  }
 ],
 "metadata": {
  "kernelspec": {
   "display_name": "Python 3 (ipykernel)",
   "language": "python",
   "name": "python3"
  },
  "language_info": {
   "codemirror_mode": {
    "name": "ipython",
    "version": 3
   },
   "file_extension": ".py",
   "mimetype": "text/x-python",
   "name": "python",
   "nbconvert_exporter": "python",
   "pygments_lexer": "ipython3",
   "version": "3.9.13"
  }
 },
 "nbformat": 4,
 "nbformat_minor": 4
}

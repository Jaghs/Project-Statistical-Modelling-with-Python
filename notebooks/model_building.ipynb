{
 "cells": [
  {
   "cell_type": "code",
   "execution_count": 103,
   "metadata": {},
   "outputs": [],
   "source": [
    "# IMPORT\n",
    "import statsmodels.api as sm\n",
    "import pandas as pd\n",
    "import numpy as np\n",
    "import matplotlib.pyplot as plt\n",
    "import seaborn as sns\n",
    "import sqlite3"
   ]
  },
  {
   "cell_type": "markdown",
   "metadata": {},
   "source": [
    "Build a regression model."
   ]
  },
  {
   "cell_type": "code",
   "execution_count": 104,
   "metadata": {},
   "outputs": [],
   "source": [
    "# PULL PREVIOUS DATA FRAME THROUGH SQLITE3 DATABASE\n",
    "connection = sqlite3.connect(\"sqldata.sqlite\")\n",
    "sql_df = pd.read_sql_query('SELECT * FROM merged_df2', connection)\n",
    "connection.close()"
   ]
  },
  {
   "cell_type": "code",
   "execution_count": 105,
   "metadata": {},
   "outputs": [
    {
     "data": {
      "text/html": [
       "<div>\n",
       "<style scoped>\n",
       "    .dataframe tbody tr th:only-of-type {\n",
       "        vertical-align: middle;\n",
       "    }\n",
       "\n",
       "    .dataframe tbody tr th {\n",
       "        vertical-align: top;\n",
       "    }\n",
       "\n",
       "    .dataframe thead th {\n",
       "        text-align: right;\n",
       "    }\n",
       "</style>\n",
       "<table border=\"1\" class=\"dataframe\">\n",
       "  <thead>\n",
       "    <tr style=\"text-align: right;\">\n",
       "      <th></th>\n",
       "      <th>index</th>\n",
       "      <th>name_x</th>\n",
       "      <th>latitude</th>\n",
       "      <th>longitude</th>\n",
       "      <th>free_bikes</th>\n",
       "      <th>fsq_id</th>\n",
       "      <th>category</th>\n",
       "      <th>distance</th>\n",
       "      <th>country</th>\n",
       "      <th>city</th>\n",
       "      <th>address</th>\n",
       "      <th>name_y</th>\n",
       "      <th>name</th>\n",
       "      <th>review_count</th>\n",
       "      <th>rating</th>\n",
       "      <th>price</th>\n",
       "      <th>catergory</th>\n",
       "    </tr>\n",
       "  </thead>\n",
       "  <tbody>\n",
       "    <tr>\n",
       "      <th>0</th>\n",
       "      <td>0</td>\n",
       "      <td>André Mazet - Saint-André des Arts</td>\n",
       "      <td>48.85</td>\n",
       "      <td>2.34</td>\n",
       "      <td>23</td>\n",
       "      <td>4bbde5128a4fb713b57e3d9d</td>\n",
       "      <td>Tea Room</td>\n",
       "      <td>52</td>\n",
       "      <td>FR</td>\n",
       "      <td>Paris</td>\n",
       "      <td>59-61 rue Saint-André des Arts</td>\n",
       "      <td>La Jacobine</td>\n",
       "      <td>L'Avant Comptoir</td>\n",
       "      <td>643</td>\n",
       "      <td>4.5</td>\n",
       "      <td>€€</td>\n",
       "      <td>Tapas Bars</td>\n",
       "    </tr>\n",
       "    <tr>\n",
       "      <th>1</th>\n",
       "      <td>1</td>\n",
       "      <td>André Mazet - Saint-André des Arts</td>\n",
       "      <td>48.85</td>\n",
       "      <td>2.34</td>\n",
       "      <td>23</td>\n",
       "      <td>4bbde5128a4fb713b57e3d9d</td>\n",
       "      <td>Tea Room</td>\n",
       "      <td>52</td>\n",
       "      <td>FR</td>\n",
       "      <td>Paris</td>\n",
       "      <td>59-61 rue Saint-André des Arts</td>\n",
       "      <td>La Jacobine</td>\n",
       "      <td>Bistro des Augustins</td>\n",
       "      <td>463</td>\n",
       "      <td>4.5</td>\n",
       "      <td>€€</td>\n",
       "      <td>Bistros</td>\n",
       "    </tr>\n",
       "    <tr>\n",
       "      <th>2</th>\n",
       "      <td>2</td>\n",
       "      <td>André Mazet - Saint-André des Arts</td>\n",
       "      <td>48.85</td>\n",
       "      <td>2.34</td>\n",
       "      <td>23</td>\n",
       "      <td>4bbde5128a4fb713b57e3d9d</td>\n",
       "      <td>Tea Room</td>\n",
       "      <td>52</td>\n",
       "      <td>FR</td>\n",
       "      <td>Paris</td>\n",
       "      <td>59-61 rue Saint-André des Arts</td>\n",
       "      <td>La Jacobine</td>\n",
       "      <td>La Jacobine</td>\n",
       "      <td>313</td>\n",
       "      <td>4.5</td>\n",
       "      <td>€€€</td>\n",
       "      <td>Tea Rooms</td>\n",
       "    </tr>\n",
       "    <tr>\n",
       "      <th>3</th>\n",
       "      <td>3</td>\n",
       "      <td>André Mazet - Saint-André des Arts</td>\n",
       "      <td>48.85</td>\n",
       "      <td>2.34</td>\n",
       "      <td>23</td>\n",
       "      <td>4bbde5128a4fb713b57e3d9d</td>\n",
       "      <td>Tea Room</td>\n",
       "      <td>52</td>\n",
       "      <td>FR</td>\n",
       "      <td>Paris</td>\n",
       "      <td>59-61 rue Saint-André des Arts</td>\n",
       "      <td>La Jacobine</td>\n",
       "      <td>Jardin du Luxembourg</td>\n",
       "      <td>380</td>\n",
       "      <td>4.5</td>\n",
       "      <td>None</td>\n",
       "      <td>Parks</td>\n",
       "    </tr>\n",
       "    <tr>\n",
       "      <th>4</th>\n",
       "      <td>4</td>\n",
       "      <td>André Mazet - Saint-André des Arts</td>\n",
       "      <td>48.85</td>\n",
       "      <td>2.34</td>\n",
       "      <td>23</td>\n",
       "      <td>4bbde5128a4fb713b57e3d9d</td>\n",
       "      <td>Tea Room</td>\n",
       "      <td>52</td>\n",
       "      <td>FR</td>\n",
       "      <td>Paris</td>\n",
       "      <td>59-61 rue Saint-André des Arts</td>\n",
       "      <td>La Jacobine</td>\n",
       "      <td>Little Breizh</td>\n",
       "      <td>209</td>\n",
       "      <td>4.5</td>\n",
       "      <td>€€</td>\n",
       "      <td>Creperies</td>\n",
       "    </tr>\n",
       "  </tbody>\n",
       "</table>\n",
       "</div>"
      ],
      "text/plain": [
       "   index                              name_x  latitude  longitude  free_bikes  \\\n",
       "0      0  André Mazet - Saint-André des Arts     48.85       2.34          23   \n",
       "1      1  André Mazet - Saint-André des Arts     48.85       2.34          23   \n",
       "2      2  André Mazet - Saint-André des Arts     48.85       2.34          23   \n",
       "3      3  André Mazet - Saint-André des Arts     48.85       2.34          23   \n",
       "4      4  André Mazet - Saint-André des Arts     48.85       2.34          23   \n",
       "\n",
       "                     fsq_id  category  distance country   city  \\\n",
       "0  4bbde5128a4fb713b57e3d9d  Tea Room        52      FR  Paris   \n",
       "1  4bbde5128a4fb713b57e3d9d  Tea Room        52      FR  Paris   \n",
       "2  4bbde5128a4fb713b57e3d9d  Tea Room        52      FR  Paris   \n",
       "3  4bbde5128a4fb713b57e3d9d  Tea Room        52      FR  Paris   \n",
       "4  4bbde5128a4fb713b57e3d9d  Tea Room        52      FR  Paris   \n",
       "\n",
       "                          address       name_y                  name  \\\n",
       "0  59-61 rue Saint-André des Arts  La Jacobine      L'Avant Comptoir   \n",
       "1  59-61 rue Saint-André des Arts  La Jacobine  Bistro des Augustins   \n",
       "2  59-61 rue Saint-André des Arts  La Jacobine           La Jacobine   \n",
       "3  59-61 rue Saint-André des Arts  La Jacobine  Jardin du Luxembourg   \n",
       "4  59-61 rue Saint-André des Arts  La Jacobine         Little Breizh   \n",
       "\n",
       "   review_count  rating price   catergory  \n",
       "0           643     4.5    €€  Tapas Bars  \n",
       "1           463     4.5    €€     Bistros  \n",
       "2           313     4.5   €€€   Tea Rooms  \n",
       "3           380     4.5  None       Parks  \n",
       "4           209     4.5    €€   Creperies  "
      ]
     },
     "execution_count": 105,
     "metadata": {},
     "output_type": "execute_result"
    }
   ],
   "source": [
    "sql_df.head()"
   ]
  },
  {
   "cell_type": "code",
   "execution_count": 106,
   "metadata": {},
   "outputs": [
    {
     "name": "stdout",
     "output_type": "stream",
     "text": [
      "<class 'pandas.core.frame.DataFrame'>\n",
      "RangeIndex: 11945 entries, 0 to 11944\n",
      "Data columns (total 17 columns):\n",
      " #   Column        Non-Null Count  Dtype  \n",
      "---  ------        --------------  -----  \n",
      " 0   index         11945 non-null  int64  \n",
      " 1   name_x        11945 non-null  object \n",
      " 2   latitude      11945 non-null  float64\n",
      " 3   longitude     11945 non-null  float64\n",
      " 4   free_bikes    11945 non-null  int64  \n",
      " 5   fsq_id        11945 non-null  object \n",
      " 6   category      11945 non-null  object \n",
      " 7   distance      11945 non-null  int64  \n",
      " 8   country       11945 non-null  object \n",
      " 9   city          11945 non-null  object \n",
      " 10  address       11945 non-null  object \n",
      " 11  name_y        11945 non-null  object \n",
      " 12  name          11945 non-null  object \n",
      " 13  review_count  11945 non-null  int64  \n",
      " 14  rating        11945 non-null  float64\n",
      " 15  price         10521 non-null  object \n",
      " 16  catergory     11945 non-null  object \n",
      "dtypes: float64(3), int64(4), object(10)\n",
      "memory usage: 1.5+ MB\n"
     ]
    }
   ],
   "source": [
    "sql_df.info()"
   ]
  },
  {
   "cell_type": "code",
   "execution_count": 107,
   "metadata": {},
   "outputs": [
    {
     "data": {
      "text/html": [
       "<div>\n",
       "<style scoped>\n",
       "    .dataframe tbody tr th:only-of-type {\n",
       "        vertical-align: middle;\n",
       "    }\n",
       "\n",
       "    .dataframe tbody tr th {\n",
       "        vertical-align: top;\n",
       "    }\n",
       "\n",
       "    .dataframe thead th {\n",
       "        text-align: right;\n",
       "    }\n",
       "</style>\n",
       "<table border=\"1\" class=\"dataframe\">\n",
       "  <thead>\n",
       "    <tr style=\"text-align: right;\">\n",
       "      <th></th>\n",
       "      <th>index</th>\n",
       "      <th>latitude</th>\n",
       "      <th>longitude</th>\n",
       "      <th>free_bikes</th>\n",
       "      <th>distance</th>\n",
       "      <th>review_count</th>\n",
       "      <th>rating</th>\n",
       "    </tr>\n",
       "  </thead>\n",
       "  <tbody>\n",
       "    <tr>\n",
       "      <th>count</th>\n",
       "      <td>11945.000000</td>\n",
       "      <td>11945.000000</td>\n",
       "      <td>11945.000000</td>\n",
       "      <td>11945.000000</td>\n",
       "      <td>11945.000000</td>\n",
       "      <td>11945.000000</td>\n",
       "      <td>11945.000000</td>\n",
       "    </tr>\n",
       "    <tr>\n",
       "      <th>mean</th>\n",
       "      <td>5972.000000</td>\n",
       "      <td>48.854369</td>\n",
       "      <td>2.343745</td>\n",
       "      <td>17.943072</td>\n",
       "      <td>430.556718</td>\n",
       "      <td>388.850984</td>\n",
       "      <td>4.417288</td>\n",
       "    </tr>\n",
       "    <tr>\n",
       "      <th>std</th>\n",
       "      <td>3448.368817</td>\n",
       "      <td>0.009135</td>\n",
       "      <td>0.017191</td>\n",
       "      <td>10.941249</td>\n",
       "      <td>328.978593</td>\n",
       "      <td>303.415392</td>\n",
       "      <td>0.216295</td>\n",
       "    </tr>\n",
       "    <tr>\n",
       "      <th>min</th>\n",
       "      <td>0.000000</td>\n",
       "      <td>48.830000</td>\n",
       "      <td>2.270000</td>\n",
       "      <td>0.000000</td>\n",
       "      <td>52.000000</td>\n",
       "      <td>67.000000</td>\n",
       "      <td>3.500000</td>\n",
       "    </tr>\n",
       "    <tr>\n",
       "      <th>25%</th>\n",
       "      <td>2986.000000</td>\n",
       "      <td>48.850000</td>\n",
       "      <td>2.340000</td>\n",
       "      <td>10.000000</td>\n",
       "      <td>229.000000</td>\n",
       "      <td>209.000000</td>\n",
       "      <td>4.500000</td>\n",
       "    </tr>\n",
       "    <tr>\n",
       "      <th>50%</th>\n",
       "      <td>5972.000000</td>\n",
       "      <td>48.850000</td>\n",
       "      <td>2.340000</td>\n",
       "      <td>19.000000</td>\n",
       "      <td>352.000000</td>\n",
       "      <td>314.000000</td>\n",
       "      <td>4.500000</td>\n",
       "    </tr>\n",
       "    <tr>\n",
       "      <th>75%</th>\n",
       "      <td>8958.000000</td>\n",
       "      <td>48.850000</td>\n",
       "      <td>2.340000</td>\n",
       "      <td>25.000000</td>\n",
       "      <td>424.000000</td>\n",
       "      <td>463.000000</td>\n",
       "      <td>4.500000</td>\n",
       "    </tr>\n",
       "    <tr>\n",
       "      <th>max</th>\n",
       "      <td>11944.000000</td>\n",
       "      <td>48.890000</td>\n",
       "      <td>2.390000</td>\n",
       "      <td>44.000000</td>\n",
       "      <td>1596.000000</td>\n",
       "      <td>2039.000000</td>\n",
       "      <td>5.000000</td>\n",
       "    </tr>\n",
       "  </tbody>\n",
       "</table>\n",
       "</div>"
      ],
      "text/plain": [
       "              index      latitude     longitude    free_bikes      distance  \\\n",
       "count  11945.000000  11945.000000  11945.000000  11945.000000  11945.000000   \n",
       "mean    5972.000000     48.854369      2.343745     17.943072    430.556718   \n",
       "std     3448.368817      0.009135      0.017191     10.941249    328.978593   \n",
       "min        0.000000     48.830000      2.270000      0.000000     52.000000   \n",
       "25%     2986.000000     48.850000      2.340000     10.000000    229.000000   \n",
       "50%     5972.000000     48.850000      2.340000     19.000000    352.000000   \n",
       "75%     8958.000000     48.850000      2.340000     25.000000    424.000000   \n",
       "max    11944.000000     48.890000      2.390000     44.000000   1596.000000   \n",
       "\n",
       "       review_count        rating  \n",
       "count  11945.000000  11945.000000  \n",
       "mean     388.850984      4.417288  \n",
       "std      303.415392      0.216295  \n",
       "min       67.000000      3.500000  \n",
       "25%      209.000000      4.500000  \n",
       "50%      314.000000      4.500000  \n",
       "75%      463.000000      4.500000  \n",
       "max     2039.000000      5.000000  "
      ]
     },
     "execution_count": 107,
     "metadata": {},
     "output_type": "execute_result"
    }
   ],
   "source": [
    "sql_df.describe()"
   ]
  },
  {
   "cell_type": "code",
   "execution_count": 108,
   "metadata": {
    "collapsed": true,
    "jupyter": {
     "outputs_hidden": true
    },
    "tags": []
   },
   "outputs": [
    {
     "ename": "KeyError",
     "evalue": "\"['category', 'name', 'name_y', 'address', 'city', 'country', 'catergory', 'fsq_id', 'name_x'] not found in axis\"",
     "output_type": "error",
     "traceback": [
      "\u001b[1;31m---------------------------------------------------------------------------\u001b[0m",
      "\u001b[1;31mKeyError\u001b[0m                                  Traceback (most recent call last)",
      "Cell \u001b[1;32mIn[113], line 1\u001b[0m\n\u001b[1;32m----> 1\u001b[0m sql_df \u001b[38;5;241m=\u001b[39m \u001b[43msql_df\u001b[49m\u001b[38;5;241;43m.\u001b[39;49m\u001b[43mdrop\u001b[49m\u001b[43m(\u001b[49m\u001b[43m[\u001b[49m\u001b[38;5;124;43m'\u001b[39;49m\u001b[38;5;124;43mcategory\u001b[39;49m\u001b[38;5;124;43m'\u001b[39;49m\u001b[43m,\u001b[49m\u001b[38;5;124;43m'\u001b[39;49m\u001b[38;5;124;43mname\u001b[39;49m\u001b[38;5;124;43m'\u001b[39;49m\u001b[43m,\u001b[49m\u001b[38;5;124;43m'\u001b[39;49m\u001b[38;5;124;43mname_y\u001b[39;49m\u001b[38;5;124;43m'\u001b[39;49m\u001b[43m,\u001b[49m\u001b[38;5;124;43m'\u001b[39;49m\u001b[38;5;124;43maddress\u001b[39;49m\u001b[38;5;124;43m'\u001b[39;49m\u001b[43m,\u001b[49m\u001b[43m \u001b[49m\u001b[38;5;124;43m'\u001b[39;49m\u001b[38;5;124;43mcity\u001b[39;49m\u001b[38;5;124;43m'\u001b[39;49m\u001b[43m,\u001b[49m\u001b[43m \u001b[49m\u001b[38;5;124;43m'\u001b[39;49m\u001b[38;5;124;43mcountry\u001b[39;49m\u001b[38;5;124;43m'\u001b[39;49m\u001b[43m,\u001b[49m\u001b[38;5;124;43m'\u001b[39;49m\u001b[38;5;124;43mcatergory\u001b[39;49m\u001b[38;5;124;43m'\u001b[39;49m\u001b[43m,\u001b[49m\u001b[38;5;124;43m'\u001b[39;49m\u001b[38;5;124;43mfsq_id\u001b[39;49m\u001b[38;5;124;43m'\u001b[39;49m\u001b[43m,\u001b[49m\u001b[38;5;124;43m'\u001b[39;49m\u001b[38;5;124;43mname_x\u001b[39;49m\u001b[38;5;124;43m'\u001b[39;49m\u001b[43m,\u001b[49m\u001b[38;5;124;43m'\u001b[39;49m\u001b[38;5;124;43mindex\u001b[39;49m\u001b[38;5;124;43m'\u001b[39;49m\u001b[43m]\u001b[49m\u001b[43m,\u001b[49m\u001b[43m \u001b[49m\u001b[43maxis\u001b[49m\u001b[38;5;241;43m=\u001b[39;49m\u001b[38;5;241;43m1\u001b[39;49m\u001b[43m)\u001b[49m \u001b[38;5;66;03m#DROPPED ALL OBJECT TYPE COLUMNS\u001b[39;00m\n",
      "File \u001b[1;32mC:\\ProgramData\\Anaconda3\\lib\\site-packages\\pandas\\util\\_decorators.py:311\u001b[0m, in \u001b[0;36mdeprecate_nonkeyword_arguments.<locals>.decorate.<locals>.wrapper\u001b[1;34m(*args, **kwargs)\u001b[0m\n\u001b[0;32m    305\u001b[0m \u001b[38;5;28;01mif\u001b[39;00m \u001b[38;5;28mlen\u001b[39m(args) \u001b[38;5;241m>\u001b[39m num_allow_args:\n\u001b[0;32m    306\u001b[0m     warnings\u001b[38;5;241m.\u001b[39mwarn(\n\u001b[0;32m    307\u001b[0m         msg\u001b[38;5;241m.\u001b[39mformat(arguments\u001b[38;5;241m=\u001b[39marguments),\n\u001b[0;32m    308\u001b[0m         \u001b[38;5;167;01mFutureWarning\u001b[39;00m,\n\u001b[0;32m    309\u001b[0m         stacklevel\u001b[38;5;241m=\u001b[39mstacklevel,\n\u001b[0;32m    310\u001b[0m     )\n\u001b[1;32m--> 311\u001b[0m \u001b[38;5;28;01mreturn\u001b[39;00m func(\u001b[38;5;241m*\u001b[39margs, \u001b[38;5;241m*\u001b[39m\u001b[38;5;241m*\u001b[39mkwargs)\n",
      "File \u001b[1;32mC:\\ProgramData\\Anaconda3\\lib\\site-packages\\pandas\\core\\frame.py:4957\u001b[0m, in \u001b[0;36mDataFrame.drop\u001b[1;34m(self, labels, axis, index, columns, level, inplace, errors)\u001b[0m\n\u001b[0;32m   4809\u001b[0m \u001b[38;5;129m@deprecate_nonkeyword_arguments\u001b[39m(version\u001b[38;5;241m=\u001b[39m\u001b[38;5;28;01mNone\u001b[39;00m, allowed_args\u001b[38;5;241m=\u001b[39m[\u001b[38;5;124m\"\u001b[39m\u001b[38;5;124mself\u001b[39m\u001b[38;5;124m\"\u001b[39m, \u001b[38;5;124m\"\u001b[39m\u001b[38;5;124mlabels\u001b[39m\u001b[38;5;124m\"\u001b[39m])\n\u001b[0;32m   4810\u001b[0m \u001b[38;5;28;01mdef\u001b[39;00m \u001b[38;5;21mdrop\u001b[39m(\n\u001b[0;32m   4811\u001b[0m     \u001b[38;5;28mself\u001b[39m,\n\u001b[1;32m   (...)\u001b[0m\n\u001b[0;32m   4818\u001b[0m     errors: \u001b[38;5;28mstr\u001b[39m \u001b[38;5;241m=\u001b[39m \u001b[38;5;124m\"\u001b[39m\u001b[38;5;124mraise\u001b[39m\u001b[38;5;124m\"\u001b[39m,\n\u001b[0;32m   4819\u001b[0m ):\n\u001b[0;32m   4820\u001b[0m \u001b[38;5;250m    \u001b[39m\u001b[38;5;124;03m\"\"\"\u001b[39;00m\n\u001b[0;32m   4821\u001b[0m \u001b[38;5;124;03m    Drop specified labels from rows or columns.\u001b[39;00m\n\u001b[0;32m   4822\u001b[0m \n\u001b[1;32m   (...)\u001b[0m\n\u001b[0;32m   4955\u001b[0m \u001b[38;5;124;03m            weight  1.0     0.8\u001b[39;00m\n\u001b[0;32m   4956\u001b[0m \u001b[38;5;124;03m    \"\"\"\u001b[39;00m\n\u001b[1;32m-> 4957\u001b[0m     \u001b[38;5;28;01mreturn\u001b[39;00m \u001b[38;5;28;43msuper\u001b[39;49m\u001b[43m(\u001b[49m\u001b[43m)\u001b[49m\u001b[38;5;241;43m.\u001b[39;49m\u001b[43mdrop\u001b[49m\u001b[43m(\u001b[49m\n\u001b[0;32m   4958\u001b[0m \u001b[43m        \u001b[49m\u001b[43mlabels\u001b[49m\u001b[38;5;241;43m=\u001b[39;49m\u001b[43mlabels\u001b[49m\u001b[43m,\u001b[49m\n\u001b[0;32m   4959\u001b[0m \u001b[43m        \u001b[49m\u001b[43maxis\u001b[49m\u001b[38;5;241;43m=\u001b[39;49m\u001b[43maxis\u001b[49m\u001b[43m,\u001b[49m\n\u001b[0;32m   4960\u001b[0m \u001b[43m        \u001b[49m\u001b[43mindex\u001b[49m\u001b[38;5;241;43m=\u001b[39;49m\u001b[43mindex\u001b[49m\u001b[43m,\u001b[49m\n\u001b[0;32m   4961\u001b[0m \u001b[43m        \u001b[49m\u001b[43mcolumns\u001b[49m\u001b[38;5;241;43m=\u001b[39;49m\u001b[43mcolumns\u001b[49m\u001b[43m,\u001b[49m\n\u001b[0;32m   4962\u001b[0m \u001b[43m        \u001b[49m\u001b[43mlevel\u001b[49m\u001b[38;5;241;43m=\u001b[39;49m\u001b[43mlevel\u001b[49m\u001b[43m,\u001b[49m\n\u001b[0;32m   4963\u001b[0m \u001b[43m        \u001b[49m\u001b[43minplace\u001b[49m\u001b[38;5;241;43m=\u001b[39;49m\u001b[43minplace\u001b[49m\u001b[43m,\u001b[49m\n\u001b[0;32m   4964\u001b[0m \u001b[43m        \u001b[49m\u001b[43merrors\u001b[49m\u001b[38;5;241;43m=\u001b[39;49m\u001b[43merrors\u001b[49m\u001b[43m,\u001b[49m\n\u001b[0;32m   4965\u001b[0m \u001b[43m    \u001b[49m\u001b[43m)\u001b[49m\n",
      "File \u001b[1;32mC:\\ProgramData\\Anaconda3\\lib\\site-packages\\pandas\\core\\generic.py:4267\u001b[0m, in \u001b[0;36mNDFrame.drop\u001b[1;34m(self, labels, axis, index, columns, level, inplace, errors)\u001b[0m\n\u001b[0;32m   4265\u001b[0m \u001b[38;5;28;01mfor\u001b[39;00m axis, labels \u001b[38;5;129;01min\u001b[39;00m axes\u001b[38;5;241m.\u001b[39mitems():\n\u001b[0;32m   4266\u001b[0m     \u001b[38;5;28;01mif\u001b[39;00m labels \u001b[38;5;129;01mis\u001b[39;00m \u001b[38;5;129;01mnot\u001b[39;00m \u001b[38;5;28;01mNone\u001b[39;00m:\n\u001b[1;32m-> 4267\u001b[0m         obj \u001b[38;5;241m=\u001b[39m \u001b[43mobj\u001b[49m\u001b[38;5;241;43m.\u001b[39;49m\u001b[43m_drop_axis\u001b[49m\u001b[43m(\u001b[49m\u001b[43mlabels\u001b[49m\u001b[43m,\u001b[49m\u001b[43m \u001b[49m\u001b[43maxis\u001b[49m\u001b[43m,\u001b[49m\u001b[43m \u001b[49m\u001b[43mlevel\u001b[49m\u001b[38;5;241;43m=\u001b[39;49m\u001b[43mlevel\u001b[49m\u001b[43m,\u001b[49m\u001b[43m \u001b[49m\u001b[43merrors\u001b[49m\u001b[38;5;241;43m=\u001b[39;49m\u001b[43merrors\u001b[49m\u001b[43m)\u001b[49m\n\u001b[0;32m   4269\u001b[0m \u001b[38;5;28;01mif\u001b[39;00m inplace:\n\u001b[0;32m   4270\u001b[0m     \u001b[38;5;28mself\u001b[39m\u001b[38;5;241m.\u001b[39m_update_inplace(obj)\n",
      "File \u001b[1;32mC:\\ProgramData\\Anaconda3\\lib\\site-packages\\pandas\\core\\generic.py:4311\u001b[0m, in \u001b[0;36mNDFrame._drop_axis\u001b[1;34m(self, labels, axis, level, errors, consolidate, only_slice)\u001b[0m\n\u001b[0;32m   4309\u001b[0m         new_axis \u001b[38;5;241m=\u001b[39m axis\u001b[38;5;241m.\u001b[39mdrop(labels, level\u001b[38;5;241m=\u001b[39mlevel, errors\u001b[38;5;241m=\u001b[39merrors)\n\u001b[0;32m   4310\u001b[0m     \u001b[38;5;28;01melse\u001b[39;00m:\n\u001b[1;32m-> 4311\u001b[0m         new_axis \u001b[38;5;241m=\u001b[39m \u001b[43maxis\u001b[49m\u001b[38;5;241;43m.\u001b[39;49m\u001b[43mdrop\u001b[49m\u001b[43m(\u001b[49m\u001b[43mlabels\u001b[49m\u001b[43m,\u001b[49m\u001b[43m \u001b[49m\u001b[43merrors\u001b[49m\u001b[38;5;241;43m=\u001b[39;49m\u001b[43merrors\u001b[49m\u001b[43m)\u001b[49m\n\u001b[0;32m   4312\u001b[0m     indexer \u001b[38;5;241m=\u001b[39m axis\u001b[38;5;241m.\u001b[39mget_indexer(new_axis)\n\u001b[0;32m   4314\u001b[0m \u001b[38;5;66;03m# Case for non-unique axis\u001b[39;00m\n\u001b[0;32m   4315\u001b[0m \u001b[38;5;28;01melse\u001b[39;00m:\n",
      "File \u001b[1;32mC:\\ProgramData\\Anaconda3\\lib\\site-packages\\pandas\\core\\indexes\\base.py:6661\u001b[0m, in \u001b[0;36mIndex.drop\u001b[1;34m(self, labels, errors)\u001b[0m\n\u001b[0;32m   6659\u001b[0m \u001b[38;5;28;01mif\u001b[39;00m mask\u001b[38;5;241m.\u001b[39many():\n\u001b[0;32m   6660\u001b[0m     \u001b[38;5;28;01mif\u001b[39;00m errors \u001b[38;5;241m!=\u001b[39m \u001b[38;5;124m\"\u001b[39m\u001b[38;5;124mignore\u001b[39m\u001b[38;5;124m\"\u001b[39m:\n\u001b[1;32m-> 6661\u001b[0m         \u001b[38;5;28;01mraise\u001b[39;00m \u001b[38;5;167;01mKeyError\u001b[39;00m(\u001b[38;5;124mf\u001b[39m\u001b[38;5;124m\"\u001b[39m\u001b[38;5;132;01m{\u001b[39;00m\u001b[38;5;28mlist\u001b[39m(labels[mask])\u001b[38;5;132;01m}\u001b[39;00m\u001b[38;5;124m not found in axis\u001b[39m\u001b[38;5;124m\"\u001b[39m)\n\u001b[0;32m   6662\u001b[0m     indexer \u001b[38;5;241m=\u001b[39m indexer[\u001b[38;5;241m~\u001b[39mmask]\n\u001b[0;32m   6663\u001b[0m \u001b[38;5;28;01mreturn\u001b[39;00m \u001b[38;5;28mself\u001b[39m\u001b[38;5;241m.\u001b[39mdelete(indexer)\n",
      "\u001b[1;31mKeyError\u001b[0m: \"['category', 'name', 'name_y', 'address', 'city', 'country', 'catergory', 'fsq_id', 'name_x'] not found in axis\""
     ]
    }
   ],
   "source": [
    "sql_df = sql_df.drop(['category','name','name_y','address', 'city', 'country','catergory','fsq_id','name_x'], axis=1) #DROPPED ALL OBJECT TYPE COLUMNS"
   ]
  },
  {
   "cell_type": "code",
   "execution_count": 109,
   "metadata": {
    "collapsed": true,
    "jupyter": {
     "outputs_hidden": true
    },
    "tags": []
   },
   "outputs": [
    {
     "name": "stdout",
     "output_type": "stream",
     "text": [
      "       index  latitude  longitude  free_bikes  distance  review_count  rating  \\\n",
      "0          0     48.85       2.34          23        52           643     4.5   \n",
      "1          1     48.85       2.34          23        52           463     4.5   \n",
      "2          2     48.85       2.34          23        52           313     4.5   \n",
      "3          3     48.85       2.34          23        52           380     4.5   \n",
      "4          4     48.85       2.34          23        52           209     4.5   \n",
      "...      ...       ...        ...         ...       ...           ...     ...   \n",
      "11940  11940     48.86       2.36          17       374          1906     4.5   \n",
      "11941  11941     48.86       2.36          17       374           218     4.5   \n",
      "11942  11942     48.86       2.36          17       374           459     4.0   \n",
      "11943  11943     48.86       2.36          17       374          1906     4.5   \n",
      "11944  11944     48.86       2.36          17       374          1906     4.5   \n",
      "\n",
      "      price  \n",
      "0        €€  \n",
      "1        €€  \n",
      "2       €€€  \n",
      "3      None  \n",
      "4        €€  \n",
      "...     ...  \n",
      "11940    €€  \n",
      "11941     €  \n",
      "11942    €€  \n",
      "11943    €€  \n",
      "11944    €€  \n",
      "\n",
      "[11945 rows x 8 columns]\n"
     ]
    }
   ],
   "source": [
    "print(sql_df)"
   ]
  },
  {
   "cell_type": "code",
   "execution_count": 110,
   "metadata": {},
   "outputs": [
    {
     "data": {
      "text/plain": [
       "array([[0, 48.85, 2.34, ..., 643, 4.5, '€€'],\n",
       "       [1, 48.85, 2.34, ..., 463, 4.5, '€€'],\n",
       "       [2, 48.85, 2.34, ..., 313, 4.5, '€€€'],\n",
       "       ...,\n",
       "       [11942, 48.86, 2.36, ..., 459, 4.0, '€€'],\n",
       "       [11943, 48.86, 2.36, ..., 1906, 4.5, '€€'],\n",
       "       [11944, 48.86, 2.36, ..., 1906, 4.5, '€€']], dtype=object)"
      ]
     },
     "execution_count": 110,
     "metadata": {},
     "output_type": "execute_result"
    }
   ],
   "source": [
    "np.asarray(sql_df)"
   ]
  },
  {
   "cell_type": "code",
   "execution_count": null,
   "metadata": {},
   "outputs": [],
   "source": []
  },
  {
   "cell_type": "markdown",
   "metadata": {},
   "source": [
    "Provide model output and an interpretation of the results. "
   ]
  },
  {
   "cell_type": "code",
   "execution_count": 112,
   "metadata": {},
   "outputs": [
    {
     "name": "stdout",
     "output_type": "stream",
     "text": [
      "                            OLS Regression Results                            \n",
      "==============================================================================\n",
      "Dep. Variable:             free_bikes   R-squared:                       0.196\n",
      "Model:                            OLS   Adj. R-squared:                  0.196\n",
      "Method:                 Least Squares   F-statistic:                     388.8\n",
      "Date:                Mon, 27 Feb 2023   Prob (F-statistic):               0.00\n",
      "Time:                        02:27:19   Log-Likelihood:                -35421.\n",
      "No. Observations:                9556   AIC:                         7.086e+04\n",
      "Df Residuals:                    9549   BIC:                         7.091e+04\n",
      "Df Model:                           6                                         \n",
      "Covariance Type:            nonrobust                                         \n",
      "================================================================================\n",
      "                   coef    std err          t      P>|t|      [0.025      0.975]\n",
      "--------------------------------------------------------------------------------\n",
      "const         1.986e+04    628.134     31.612      0.000    1.86e+04    2.11e+04\n",
      "index           -0.0002   4.37e-05     -4.254      0.000      -0.000      -0.000\n",
      "latitude      -412.6223     12.743    -32.379      0.000    -437.602    -387.643\n",
      "longitude      137.6724      7.189     19.152      0.000     123.581     151.764\n",
      "distance         0.0029      0.000      6.823      0.000       0.002       0.004\n",
      "review_count     0.0029      0.000      7.883      0.000       0.002       0.004\n",
      "rating          -1.0034      0.496     -2.023      0.043      -1.976      -0.031\n",
      "==============================================================================\n",
      "Omnibus:                      113.358   Durbin-Watson:                   1.979\n",
      "Prob(Omnibus):                  0.000   Jarque-Bera (JB):               96.373\n",
      "Skew:                           0.185   Prob(JB):                     1.18e-21\n",
      "Kurtosis:                       2.677   Cond. No.                     4.32e+07\n",
      "==============================================================================\n",
      "\n",
      "Notes:\n",
      "[1] Standard Errors assume that the covariance matrix of the errors is correctly specified.\n",
      "[2] The condition number is large, 4.32e+07. This might indicate that there are\n",
      "strong multicollinearity or other numerical problems.\n"
     ]
    }
   ],
   "source": [
    "# DEPENDENT & INDEPENDENT VARIABLES\n",
    "y = train_data['free_bikes']\n",
    "X = train_data.drop(['free_bikes'], axis=1)\n",
    "X = sm.add_constant(X_train) # ASS CONSTANT\n",
    "\n",
    "# LINEAR REGRESSION MODEL\n",
    "model = sm.OLS(y, X)\n",
    "\n",
    "# FIT MODEL\n",
    "results = model.fit()\n",
    "\n",
    "# PRINT SUMMARY\n",
    "print(results.summary())\n"
   ]
  },
  {
   "cell_type": "markdown",
   "metadata": {},
   "source": [
    "This model is supposed to show how the independent variables effect on the amount of bikes available by the dependent variable which is free_bikes.\n",
    "There is a correlation between the dependent variable 'free_bikes' and the independent variables ( latitude, longitude, distance, review_count, rating). The R-squared value of 0.196 shows that 19.6% of the variance in the dependent variable can be explained by the independent variables. The p-values show that all of the variables, except for rating, are significant in predicting the number of free bikes in a location."
   ]
  },
  {
   "cell_type": "code",
   "execution_count": null,
   "metadata": {},
   "outputs": [],
   "source": []
  },
  {
   "cell_type": "markdown",
   "metadata": {},
   "source": [
    "# Stretch"
   ]
  },
  {
   "cell_type": "markdown",
   "metadata": {},
   "source": [
    "How can you turn the regression model into a classification model?"
   ]
  },
  {
   "cell_type": "code",
   "execution_count": null,
   "metadata": {},
   "outputs": [],
   "source": []
  }
 ],
 "metadata": {
  "kernelspec": {
   "display_name": "Python 3 (ipykernel)",
   "language": "python",
   "name": "python3"
  },
  "language_info": {
   "codemirror_mode": {
    "name": "ipython",
    "version": 3
   },
   "file_extension": ".py",
   "mimetype": "text/x-python",
   "name": "python",
   "nbconvert_exporter": "python",
   "pygments_lexer": "ipython3",
   "version": "3.9.13"
  }
 },
 "nbformat": 4,
 "nbformat_minor": 4
}

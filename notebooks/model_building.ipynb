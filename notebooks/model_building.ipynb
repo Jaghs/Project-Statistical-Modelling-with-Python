{
 "cells": [
  {
   "cell_type": "code",
   "execution_count": 39,
   "metadata": {},
   "outputs": [],
   "source": [
    "# IMPORT\n",
    "import statsmodels.api as sm\n",
    "import pandas as pd\n",
    "import numpy as np\n",
    "import matplotlib.pyplot as plt\n",
    "import seaborn as sns\n",
    "import sqlite3"
   ]
  },
  {
   "cell_type": "markdown",
   "metadata": {},
   "source": [
    "Build a regression model."
   ]
  },
  {
   "cell_type": "code",
   "execution_count": 40,
   "metadata": {},
   "outputs": [],
   "source": [
    "# PULL PREVIOUS DATA FRAME THROUGH SQLITE3 DATABASE\n",
    "connection = sqlite3.connect(\"sqldata.sqlite\")\n",
    "sql_df = pd.read_sql_query('SELECT * FROM merged_df2', connection)\n",
    "connection.close()"
   ]
  },
  {
   "cell_type": "code",
   "execution_count": 41,
   "metadata": {},
   "outputs": [
    {
     "data": {
      "text/html": [
       "<div>\n",
       "<style scoped>\n",
       "    .dataframe tbody tr th:only-of-type {\n",
       "        vertical-align: middle;\n",
       "    }\n",
       "\n",
       "    .dataframe tbody tr th {\n",
       "        vertical-align: top;\n",
       "    }\n",
       "\n",
       "    .dataframe thead th {\n",
       "        text-align: right;\n",
       "    }\n",
       "</style>\n",
       "<table border=\"1\" class=\"dataframe\">\n",
       "  <thead>\n",
       "    <tr style=\"text-align: right;\">\n",
       "      <th></th>\n",
       "      <th>index</th>\n",
       "      <th>name_x</th>\n",
       "      <th>latitude</th>\n",
       "      <th>longitude</th>\n",
       "      <th>free_bikes</th>\n",
       "      <th>fsq_id</th>\n",
       "      <th>category</th>\n",
       "      <th>distance</th>\n",
       "      <th>country</th>\n",
       "      <th>city</th>\n",
       "      <th>address</th>\n",
       "      <th>name_y</th>\n",
       "      <th>name</th>\n",
       "      <th>review_count</th>\n",
       "      <th>rating</th>\n",
       "      <th>price</th>\n",
       "      <th>catergory</th>\n",
       "    </tr>\n",
       "  </thead>\n",
       "  <tbody>\n",
       "    <tr>\n",
       "      <th>0</th>\n",
       "      <td>0</td>\n",
       "      <td>André Mazet - Saint-André des Arts</td>\n",
       "      <td>48.85</td>\n",
       "      <td>2.34</td>\n",
       "      <td>23</td>\n",
       "      <td>4bbde5128a4fb713b57e3d9d</td>\n",
       "      <td>Tea Room</td>\n",
       "      <td>52</td>\n",
       "      <td>FR</td>\n",
       "      <td>Paris</td>\n",
       "      <td>59-61 rue Saint-André des Arts</td>\n",
       "      <td>La Jacobine</td>\n",
       "      <td>L'Avant Comptoir</td>\n",
       "      <td>643</td>\n",
       "      <td>4.5</td>\n",
       "      <td>€€</td>\n",
       "      <td>Tapas Bars</td>\n",
       "    </tr>\n",
       "    <tr>\n",
       "      <th>1</th>\n",
       "      <td>1</td>\n",
       "      <td>André Mazet - Saint-André des Arts</td>\n",
       "      <td>48.85</td>\n",
       "      <td>2.34</td>\n",
       "      <td>23</td>\n",
       "      <td>4bbde5128a4fb713b57e3d9d</td>\n",
       "      <td>Tea Room</td>\n",
       "      <td>52</td>\n",
       "      <td>FR</td>\n",
       "      <td>Paris</td>\n",
       "      <td>59-61 rue Saint-André des Arts</td>\n",
       "      <td>La Jacobine</td>\n",
       "      <td>Bistro des Augustins</td>\n",
       "      <td>463</td>\n",
       "      <td>4.5</td>\n",
       "      <td>€€</td>\n",
       "      <td>Bistros</td>\n",
       "    </tr>\n",
       "    <tr>\n",
       "      <th>2</th>\n",
       "      <td>2</td>\n",
       "      <td>André Mazet - Saint-André des Arts</td>\n",
       "      <td>48.85</td>\n",
       "      <td>2.34</td>\n",
       "      <td>23</td>\n",
       "      <td>4bbde5128a4fb713b57e3d9d</td>\n",
       "      <td>Tea Room</td>\n",
       "      <td>52</td>\n",
       "      <td>FR</td>\n",
       "      <td>Paris</td>\n",
       "      <td>59-61 rue Saint-André des Arts</td>\n",
       "      <td>La Jacobine</td>\n",
       "      <td>La Jacobine</td>\n",
       "      <td>313</td>\n",
       "      <td>4.5</td>\n",
       "      <td>€€€</td>\n",
       "      <td>Tea Rooms</td>\n",
       "    </tr>\n",
       "    <tr>\n",
       "      <th>3</th>\n",
       "      <td>3</td>\n",
       "      <td>André Mazet - Saint-André des Arts</td>\n",
       "      <td>48.85</td>\n",
       "      <td>2.34</td>\n",
       "      <td>23</td>\n",
       "      <td>4bbde5128a4fb713b57e3d9d</td>\n",
       "      <td>Tea Room</td>\n",
       "      <td>52</td>\n",
       "      <td>FR</td>\n",
       "      <td>Paris</td>\n",
       "      <td>59-61 rue Saint-André des Arts</td>\n",
       "      <td>La Jacobine</td>\n",
       "      <td>Jardin du Luxembourg</td>\n",
       "      <td>380</td>\n",
       "      <td>4.5</td>\n",
       "      <td>None</td>\n",
       "      <td>Parks</td>\n",
       "    </tr>\n",
       "    <tr>\n",
       "      <th>4</th>\n",
       "      <td>4</td>\n",
       "      <td>André Mazet - Saint-André des Arts</td>\n",
       "      <td>48.85</td>\n",
       "      <td>2.34</td>\n",
       "      <td>23</td>\n",
       "      <td>4bbde5128a4fb713b57e3d9d</td>\n",
       "      <td>Tea Room</td>\n",
       "      <td>52</td>\n",
       "      <td>FR</td>\n",
       "      <td>Paris</td>\n",
       "      <td>59-61 rue Saint-André des Arts</td>\n",
       "      <td>La Jacobine</td>\n",
       "      <td>Little Breizh</td>\n",
       "      <td>209</td>\n",
       "      <td>4.5</td>\n",
       "      <td>€€</td>\n",
       "      <td>Creperies</td>\n",
       "    </tr>\n",
       "  </tbody>\n",
       "</table>\n",
       "</div>"
      ],
      "text/plain": [
       "   index                              name_x  latitude  longitude  free_bikes  \\\n",
       "0      0  André Mazet - Saint-André des Arts     48.85       2.34          23   \n",
       "1      1  André Mazet - Saint-André des Arts     48.85       2.34          23   \n",
       "2      2  André Mazet - Saint-André des Arts     48.85       2.34          23   \n",
       "3      3  André Mazet - Saint-André des Arts     48.85       2.34          23   \n",
       "4      4  André Mazet - Saint-André des Arts     48.85       2.34          23   \n",
       "\n",
       "                     fsq_id  category  distance country   city  \\\n",
       "0  4bbde5128a4fb713b57e3d9d  Tea Room        52      FR  Paris   \n",
       "1  4bbde5128a4fb713b57e3d9d  Tea Room        52      FR  Paris   \n",
       "2  4bbde5128a4fb713b57e3d9d  Tea Room        52      FR  Paris   \n",
       "3  4bbde5128a4fb713b57e3d9d  Tea Room        52      FR  Paris   \n",
       "4  4bbde5128a4fb713b57e3d9d  Tea Room        52      FR  Paris   \n",
       "\n",
       "                          address       name_y                  name  \\\n",
       "0  59-61 rue Saint-André des Arts  La Jacobine      L'Avant Comptoir   \n",
       "1  59-61 rue Saint-André des Arts  La Jacobine  Bistro des Augustins   \n",
       "2  59-61 rue Saint-André des Arts  La Jacobine           La Jacobine   \n",
       "3  59-61 rue Saint-André des Arts  La Jacobine  Jardin du Luxembourg   \n",
       "4  59-61 rue Saint-André des Arts  La Jacobine         Little Breizh   \n",
       "\n",
       "   review_count  rating price   catergory  \n",
       "0           643     4.5    €€  Tapas Bars  \n",
       "1           463     4.5    €€     Bistros  \n",
       "2           313     4.5   €€€   Tea Rooms  \n",
       "3           380     4.5  None       Parks  \n",
       "4           209     4.5    €€   Creperies  "
      ]
     },
     "execution_count": 41,
     "metadata": {},
     "output_type": "execute_result"
    }
   ],
   "source": [
    "sql_df.head()"
   ]
  },
  {
   "cell_type": "code",
   "execution_count": 42,
   "metadata": {},
   "outputs": [
    {
     "name": "stdout",
     "output_type": "stream",
     "text": [
      "<class 'pandas.core.frame.DataFrame'>\n",
      "RangeIndex: 11945 entries, 0 to 11944\n",
      "Data columns (total 17 columns):\n",
      " #   Column        Non-Null Count  Dtype  \n",
      "---  ------        --------------  -----  \n",
      " 0   index         11945 non-null  int64  \n",
      " 1   name_x        11945 non-null  object \n",
      " 2   latitude      11945 non-null  float64\n",
      " 3   longitude     11945 non-null  float64\n",
      " 4   free_bikes    11945 non-null  int64  \n",
      " 5   fsq_id        11945 non-null  object \n",
      " 6   category      11945 non-null  object \n",
      " 7   distance      11945 non-null  int64  \n",
      " 8   country       11945 non-null  object \n",
      " 9   city          11945 non-null  object \n",
      " 10  address       11945 non-null  object \n",
      " 11  name_y        11945 non-null  object \n",
      " 12  name          11945 non-null  object \n",
      " 13  review_count  11945 non-null  int64  \n",
      " 14  rating        11945 non-null  float64\n",
      " 15  price         10521 non-null  object \n",
      " 16  catergory     11945 non-null  object \n",
      "dtypes: float64(3), int64(4), object(10)\n",
      "memory usage: 1.5+ MB\n"
     ]
    }
   ],
   "source": [
    "sql_df.info()"
   ]
  },
  {
   "cell_type": "code",
   "execution_count": 43,
   "metadata": {},
   "outputs": [
    {
     "data": {
      "text/html": [
       "<div>\n",
       "<style scoped>\n",
       "    .dataframe tbody tr th:only-of-type {\n",
       "        vertical-align: middle;\n",
       "    }\n",
       "\n",
       "    .dataframe tbody tr th {\n",
       "        vertical-align: top;\n",
       "    }\n",
       "\n",
       "    .dataframe thead th {\n",
       "        text-align: right;\n",
       "    }\n",
       "</style>\n",
       "<table border=\"1\" class=\"dataframe\">\n",
       "  <thead>\n",
       "    <tr style=\"text-align: right;\">\n",
       "      <th></th>\n",
       "      <th>index</th>\n",
       "      <th>latitude</th>\n",
       "      <th>longitude</th>\n",
       "      <th>free_bikes</th>\n",
       "      <th>distance</th>\n",
       "      <th>review_count</th>\n",
       "      <th>rating</th>\n",
       "    </tr>\n",
       "  </thead>\n",
       "  <tbody>\n",
       "    <tr>\n",
       "      <th>count</th>\n",
       "      <td>11945.000000</td>\n",
       "      <td>11945.000000</td>\n",
       "      <td>11945.000000</td>\n",
       "      <td>11945.000000</td>\n",
       "      <td>11945.000000</td>\n",
       "      <td>11945.000000</td>\n",
       "      <td>11945.000000</td>\n",
       "    </tr>\n",
       "    <tr>\n",
       "      <th>mean</th>\n",
       "      <td>5972.000000</td>\n",
       "      <td>48.854369</td>\n",
       "      <td>2.343745</td>\n",
       "      <td>17.943072</td>\n",
       "      <td>430.556718</td>\n",
       "      <td>388.850984</td>\n",
       "      <td>4.417288</td>\n",
       "    </tr>\n",
       "    <tr>\n",
       "      <th>std</th>\n",
       "      <td>3448.368817</td>\n",
       "      <td>0.009135</td>\n",
       "      <td>0.017191</td>\n",
       "      <td>10.941249</td>\n",
       "      <td>328.978593</td>\n",
       "      <td>303.415392</td>\n",
       "      <td>0.216295</td>\n",
       "    </tr>\n",
       "    <tr>\n",
       "      <th>min</th>\n",
       "      <td>0.000000</td>\n",
       "      <td>48.830000</td>\n",
       "      <td>2.270000</td>\n",
       "      <td>0.000000</td>\n",
       "      <td>52.000000</td>\n",
       "      <td>67.000000</td>\n",
       "      <td>3.500000</td>\n",
       "    </tr>\n",
       "    <tr>\n",
       "      <th>25%</th>\n",
       "      <td>2986.000000</td>\n",
       "      <td>48.850000</td>\n",
       "      <td>2.340000</td>\n",
       "      <td>10.000000</td>\n",
       "      <td>229.000000</td>\n",
       "      <td>209.000000</td>\n",
       "      <td>4.500000</td>\n",
       "    </tr>\n",
       "    <tr>\n",
       "      <th>50%</th>\n",
       "      <td>5972.000000</td>\n",
       "      <td>48.850000</td>\n",
       "      <td>2.340000</td>\n",
       "      <td>19.000000</td>\n",
       "      <td>352.000000</td>\n",
       "      <td>314.000000</td>\n",
       "      <td>4.500000</td>\n",
       "    </tr>\n",
       "    <tr>\n",
       "      <th>75%</th>\n",
       "      <td>8958.000000</td>\n",
       "      <td>48.850000</td>\n",
       "      <td>2.340000</td>\n",
       "      <td>25.000000</td>\n",
       "      <td>424.000000</td>\n",
       "      <td>463.000000</td>\n",
       "      <td>4.500000</td>\n",
       "    </tr>\n",
       "    <tr>\n",
       "      <th>max</th>\n",
       "      <td>11944.000000</td>\n",
       "      <td>48.890000</td>\n",
       "      <td>2.390000</td>\n",
       "      <td>44.000000</td>\n",
       "      <td>1596.000000</td>\n",
       "      <td>2039.000000</td>\n",
       "      <td>5.000000</td>\n",
       "    </tr>\n",
       "  </tbody>\n",
       "</table>\n",
       "</div>"
      ],
      "text/plain": [
       "              index      latitude     longitude    free_bikes      distance  \\\n",
       "count  11945.000000  11945.000000  11945.000000  11945.000000  11945.000000   \n",
       "mean    5972.000000     48.854369      2.343745     17.943072    430.556718   \n",
       "std     3448.368817      0.009135      0.017191     10.941249    328.978593   \n",
       "min        0.000000     48.830000      2.270000      0.000000     52.000000   \n",
       "25%     2986.000000     48.850000      2.340000     10.000000    229.000000   \n",
       "50%     5972.000000     48.850000      2.340000     19.000000    352.000000   \n",
       "75%     8958.000000     48.850000      2.340000     25.000000    424.000000   \n",
       "max    11944.000000     48.890000      2.390000     44.000000   1596.000000   \n",
       "\n",
       "       review_count        rating  \n",
       "count  11945.000000  11945.000000  \n",
       "mean     388.850984      4.417288  \n",
       "std      303.415392      0.216295  \n",
       "min       67.000000      3.500000  \n",
       "25%      209.000000      4.500000  \n",
       "50%      314.000000      4.500000  \n",
       "75%      463.000000      4.500000  \n",
       "max     2039.000000      5.000000  "
      ]
     },
     "execution_count": 43,
     "metadata": {},
     "output_type": "execute_result"
    }
   ],
   "source": [
    "sql_df.describe()"
   ]
  },
  {
   "cell_type": "code",
   "execution_count": 44,
   "metadata": {
    "tags": []
   },
   "outputs": [],
   "source": [
    "sql_df = sql_df.drop(['category','name','name_y','address', 'city', 'country','catergory','fsq_id','name_x','price','index'], axis=1) #DROPPED ALL OBJECT TYPE COLUMNS"
   ]
  },
  {
   "cell_type": "code",
   "execution_count": 45,
   "metadata": {
    "tags": []
   },
   "outputs": [
    {
     "name": "stdout",
     "output_type": "stream",
     "text": [
      "       latitude  longitude  free_bikes  distance  review_count  rating\n",
      "0         48.85       2.34          23        52           643     4.5\n",
      "1         48.85       2.34          23        52           463     4.5\n",
      "2         48.85       2.34          23        52           313     4.5\n",
      "3         48.85       2.34          23        52           380     4.5\n",
      "4         48.85       2.34          23        52           209     4.5\n",
      "...         ...        ...         ...       ...           ...     ...\n",
      "11940     48.86       2.36          17       374          1906     4.5\n",
      "11941     48.86       2.36          17       374           218     4.5\n",
      "11942     48.86       2.36          17       374           459     4.0\n",
      "11943     48.86       2.36          17       374          1906     4.5\n",
      "11944     48.86       2.36          17       374          1906     4.5\n",
      "\n",
      "[11945 rows x 6 columns]\n"
     ]
    }
   ],
   "source": [
    "print(sql_df)"
   ]
  },
  {
   "cell_type": "code",
   "execution_count": 46,
   "metadata": {},
   "outputs": [
    {
     "data": {
      "text/plain": [
       "array([[  48.85,    2.34,   23.  ,   52.  ,  643.  ,    4.5 ],\n",
       "       [  48.85,    2.34,   23.  ,   52.  ,  463.  ,    4.5 ],\n",
       "       [  48.85,    2.34,   23.  ,   52.  ,  313.  ,    4.5 ],\n",
       "       ...,\n",
       "       [  48.86,    2.36,   17.  ,  374.  ,  459.  ,    4.  ],\n",
       "       [  48.86,    2.36,   17.  ,  374.  , 1906.  ,    4.5 ],\n",
       "       [  48.86,    2.36,   17.  ,  374.  , 1906.  ,    4.5 ]])"
      ]
     },
     "execution_count": 46,
     "metadata": {},
     "output_type": "execute_result"
    }
   ],
   "source": [
    "np.asarray(sql_df)"
   ]
  },
  {
   "cell_type": "code",
   "execution_count": null,
   "metadata": {},
   "outputs": [],
   "source": []
  },
  {
   "cell_type": "markdown",
   "metadata": {},
   "source": [
    "Provide model output and an interpretation of the results. "
   ]
  },
  {
   "cell_type": "code",
   "execution_count": 49,
   "metadata": {},
   "outputs": [
    {
     "name": "stdout",
     "output_type": "stream",
     "text": [
      "                            OLS Regression Results                            \n",
      "==============================================================================\n",
      "Dep. Variable:             free_bikes   R-squared:                       0.193\n",
      "Model:                            OLS   Adj. R-squared:                  0.193\n",
      "Method:                 Least Squares   F-statistic:                     571.9\n",
      "Date:                Mon, 27 Feb 2023   Prob (F-statistic):               0.00\n",
      "Time:                        16:09:49   Log-Likelihood:                -44245.\n",
      "No. Observations:               11945   AIC:                         8.850e+04\n",
      "Df Residuals:                   11939   BIC:                         8.855e+04\n",
      "Df Model:                           5                                         \n",
      "Covariance Type:            nonrobust                                         \n",
      "================================================================================\n",
      "                   coef    std err          t      P>|t|      [0.025      0.975]\n",
      "--------------------------------------------------------------------------------\n",
      "const         2.087e+04    510.904     40.839      0.000    1.99e+04    2.19e+04\n",
      "latitude      -432.8972     10.386    -41.679      0.000    -453.256    -412.538\n",
      "longitude      129.2239      6.086     21.232      0.000     117.294     141.154\n",
      "distance         0.0017      0.000      5.613      0.000       0.001       0.002\n",
      "review_count     0.0029      0.000      8.919      0.000       0.002       0.004\n",
      "rating          -0.6591      0.443     -1.486      0.137      -1.528       0.210\n",
      "==============================================================================\n",
      "Omnibus:                      148.780   Durbin-Watson:                   0.030\n",
      "Prob(Omnibus):                  0.000   Jarque-Bera (JB):              136.922\n",
      "Skew:                           0.221   Prob(JB):                     1.85e-30\n",
      "Kurtosis:                       2.718   Cond. No.                     3.79e+06\n",
      "==============================================================================\n",
      "\n",
      "Notes:\n",
      "[1] Standard Errors assume that the covariance matrix of the errors is correctly specified.\n",
      "[2] The condition number is large, 3.79e+06. This might indicate that there are\n",
      "strong multicollinearity or other numerical problems.\n"
     ]
    }
   ],
   "source": [
    "# DEPENDENT & INDEPENDENT VARIABLES\n",
    "y = sql_df['free_bikes']\n",
    "X = sql_df.drop(['free_bikes'], axis=1)\n",
    "X = sm.add_constant(X) # ADD CONSTANT\n",
    "\n",
    "# LINEAR REGRESSION MODEL\n",
    "model = sm.OLS(y, X)\n",
    "\n",
    "# FIT MODEL\n",
    "results = model.fit()\n",
    "\n",
    "# PRINT SUMMARY\n",
    "print(results.summary())\n"
   ]
  },
  {
   "cell_type": "markdown",
   "metadata": {},
   "source": [
    "This model is supposed to show how the independent variables effect on the amount of bikes available by the dependent variable which is free_bikes.\n",
    "There is a correlation between the dependent variable 'free_bikes' and the independent variables ( latitude, longitude, distance, review_count, rating). The R-squared value of 0.193 shows that 19.3% of the variance in the dependent variable can be explained by the independent variables. The p-values show that all of the variables, except for rating, are significant in predicting the number of free bikes in a location."
   ]
  },
  {
   "cell_type": "code",
   "execution_count": null,
   "metadata": {},
   "outputs": [],
   "source": []
  },
  {
   "cell_type": "markdown",
   "metadata": {},
   "source": [
    "# Stretch"
   ]
  },
  {
   "cell_type": "markdown",
   "metadata": {},
   "source": [
    "How can you turn the regression model into a classification model?"
   ]
  },
  {
   "cell_type": "code",
   "execution_count": null,
   "metadata": {},
   "outputs": [],
   "source": []
  }
 ],
 "metadata": {
  "kernelspec": {
   "display_name": "Python 3 (ipykernel)",
   "language": "python",
   "name": "python3"
  },
  "language_info": {
   "codemirror_mode": {
    "name": "ipython",
    "version": 3
   },
   "file_extension": ".py",
   "mimetype": "text/x-python",
   "name": "python",
   "nbconvert_exporter": "python",
   "pygments_lexer": "ipython3",
   "version": "3.9.13"
  }
 },
 "nbformat": 4,
 "nbformat_minor": 4
}
